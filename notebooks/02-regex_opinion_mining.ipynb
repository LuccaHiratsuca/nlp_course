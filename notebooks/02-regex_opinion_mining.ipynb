{
 "cells": [
  {
   "cell_type": "markdown",
   "metadata": {},
   "source": [
    "# DF: What are these texts about?\n",
    "\n",
    "In many situations, we want our computers to summarize a big set of texts. Perhaps we don't want to go into detail, but we wish to know what people are talking about. This is a great source of information, because it allows something called *opinion mining*: are people talking positively about an artist? About a company? About the government?\n",
    "\n",
    "Also, if you are collecting feedback, you might want to find out what are the main points your customers are complaining about.\n",
    "\n",
    "We will get started by downloading a dataset with news from Kaggle:"
   ]
  },
  {
   "cell_type": "code",
   "execution_count": 1,
   "metadata": {},
   "outputs": [
    {
     "name": "stdout",
     "output_type": "stream",
     "text": [
      "Warning: Looks like you're using an outdated `kagglehub` version (installed: 0.3.7), please consider upgrading to the latest version (0.3.10).\n",
      "Path to dataset files: /Users/luccahiratsuca/.cache/kagglehub/datasets/gpreda/bbc-news/versions/1007\n",
      "Files in the dataset: ['bbc_news.csv']\n",
      "Number of news: 42115\n"
     ]
    },
    {
     "data": {
      "application/vnd.microsoft.datawrangler.viewer.v0+json": {
       "columns": [
        {
         "name": "index",
         "rawType": "int64",
         "type": "integer"
        },
        {
         "name": "title",
         "rawType": "object",
         "type": "string"
        },
        {
         "name": "pubDate",
         "rawType": "object",
         "type": "string"
        },
        {
         "name": "guid",
         "rawType": "object",
         "type": "string"
        },
        {
         "name": "link",
         "rawType": "object",
         "type": "string"
        },
        {
         "name": "description",
         "rawType": "object",
         "type": "string"
        }
       ],
       "conversionMethod": "pd.DataFrame",
       "ref": "98af0f6a-2bf5-4cb6-9740-25b00d1402fd",
       "rows": [
        [
         "0",
         "Ukraine: Angry Zelensky vows to punish Russian atrocities",
         "Mon, 07 Mar 2022 08:01:56 GMT",
         "https://www.bbc.co.uk/news/world-europe-60638042",
         "https://www.bbc.co.uk/news/world-europe-60638042?at_medium=RSS&at_campaign=KARANGA",
         "The Ukrainian president says the country will not forgive or forget those who murder its civilians."
        ],
        [
         "1",
         "War in Ukraine: Taking cover in a town under attack",
         "Sun, 06 Mar 2022 22:49:58 GMT",
         "https://www.bbc.co.uk/news/world-europe-60641873",
         "https://www.bbc.co.uk/news/world-europe-60641873?at_medium=RSS&at_campaign=KARANGA",
         "Jeremy Bowen was on the frontline in Irpin, as residents came under Russian fire while trying to flee."
        ],
        [
         "2",
         "Ukraine war 'catastrophic for global food'",
         "Mon, 07 Mar 2022 00:14:42 GMT",
         "https://www.bbc.co.uk/news/business-60623941",
         "https://www.bbc.co.uk/news/business-60623941?at_medium=RSS&at_campaign=KARANGA",
         "One of the world's biggest fertiliser firms says the conflict could deliver a shock to food supplies."
        ],
        [
         "3",
         "Manchester Arena bombing: Saffie Roussos's parents on hearing the truth",
         "Mon, 07 Mar 2022 00:05:40 GMT",
         "https://www.bbc.co.uk/news/uk-60579079",
         "https://www.bbc.co.uk/news/uk-60579079?at_medium=RSS&at_campaign=KARANGA",
         "The parents of the Manchester Arena bombing's youngest victim speak about their life since she died."
        ],
        [
         "4",
         "Ukraine conflict: Oil price soars to highest level since 2008",
         "Mon, 07 Mar 2022 08:15:53 GMT",
         "https://www.bbc.co.uk/news/business-60642786",
         "https://www.bbc.co.uk/news/business-60642786?at_medium=RSS&at_campaign=KARANGA",
         "Consumers are feeling the impact of higher energy costs as fuel prices and household bills jump."
        ]
       ],
       "shape": {
        "columns": 5,
        "rows": 5
       }
      },
      "text/html": [
       "<div>\n",
       "<style scoped>\n",
       "    .dataframe tbody tr th:only-of-type {\n",
       "        vertical-align: middle;\n",
       "    }\n",
       "\n",
       "    .dataframe tbody tr th {\n",
       "        vertical-align: top;\n",
       "    }\n",
       "\n",
       "    .dataframe thead th {\n",
       "        text-align: right;\n",
       "    }\n",
       "</style>\n",
       "<table border=\"1\" class=\"dataframe\">\n",
       "  <thead>\n",
       "    <tr style=\"text-align: right;\">\n",
       "      <th></th>\n",
       "      <th>title</th>\n",
       "      <th>pubDate</th>\n",
       "      <th>guid</th>\n",
       "      <th>link</th>\n",
       "      <th>description</th>\n",
       "    </tr>\n",
       "  </thead>\n",
       "  <tbody>\n",
       "    <tr>\n",
       "      <th>0</th>\n",
       "      <td>Ukraine: Angry Zelensky vows to punish Russian...</td>\n",
       "      <td>Mon, 07 Mar 2022 08:01:56 GMT</td>\n",
       "      <td>https://www.bbc.co.uk/news/world-europe-60638042</td>\n",
       "      <td>https://www.bbc.co.uk/news/world-europe-606380...</td>\n",
       "      <td>The Ukrainian president says the country will ...</td>\n",
       "    </tr>\n",
       "    <tr>\n",
       "      <th>1</th>\n",
       "      <td>War in Ukraine: Taking cover in a town under a...</td>\n",
       "      <td>Sun, 06 Mar 2022 22:49:58 GMT</td>\n",
       "      <td>https://www.bbc.co.uk/news/world-europe-60641873</td>\n",
       "      <td>https://www.bbc.co.uk/news/world-europe-606418...</td>\n",
       "      <td>Jeremy Bowen was on the frontline in Irpin, as...</td>\n",
       "    </tr>\n",
       "    <tr>\n",
       "      <th>2</th>\n",
       "      <td>Ukraine war 'catastrophic for global food'</td>\n",
       "      <td>Mon, 07 Mar 2022 00:14:42 GMT</td>\n",
       "      <td>https://www.bbc.co.uk/news/business-60623941</td>\n",
       "      <td>https://www.bbc.co.uk/news/business-60623941?a...</td>\n",
       "      <td>One of the world's biggest fertiliser firms sa...</td>\n",
       "    </tr>\n",
       "    <tr>\n",
       "      <th>3</th>\n",
       "      <td>Manchester Arena bombing: Saffie Roussos's par...</td>\n",
       "      <td>Mon, 07 Mar 2022 00:05:40 GMT</td>\n",
       "      <td>https://www.bbc.co.uk/news/uk-60579079</td>\n",
       "      <td>https://www.bbc.co.uk/news/uk-60579079?at_medi...</td>\n",
       "      <td>The parents of the Manchester Arena bombing's ...</td>\n",
       "    </tr>\n",
       "    <tr>\n",
       "      <th>4</th>\n",
       "      <td>Ukraine conflict: Oil price soars to highest l...</td>\n",
       "      <td>Mon, 07 Mar 2022 08:15:53 GMT</td>\n",
       "      <td>https://www.bbc.co.uk/news/business-60642786</td>\n",
       "      <td>https://www.bbc.co.uk/news/business-60642786?a...</td>\n",
       "      <td>Consumers are feeling the impact of higher ene...</td>\n",
       "    </tr>\n",
       "  </tbody>\n",
       "</table>\n",
       "</div>"
      ],
      "text/plain": [
       "                                               title  \\\n",
       "0  Ukraine: Angry Zelensky vows to punish Russian...   \n",
       "1  War in Ukraine: Taking cover in a town under a...   \n",
       "2         Ukraine war 'catastrophic for global food'   \n",
       "3  Manchester Arena bombing: Saffie Roussos's par...   \n",
       "4  Ukraine conflict: Oil price soars to highest l...   \n",
       "\n",
       "                         pubDate  \\\n",
       "0  Mon, 07 Mar 2022 08:01:56 GMT   \n",
       "1  Sun, 06 Mar 2022 22:49:58 GMT   \n",
       "2  Mon, 07 Mar 2022 00:14:42 GMT   \n",
       "3  Mon, 07 Mar 2022 00:05:40 GMT   \n",
       "4  Mon, 07 Mar 2022 08:15:53 GMT   \n",
       "\n",
       "                                               guid  \\\n",
       "0  https://www.bbc.co.uk/news/world-europe-60638042   \n",
       "1  https://www.bbc.co.uk/news/world-europe-60641873   \n",
       "2      https://www.bbc.co.uk/news/business-60623941   \n",
       "3            https://www.bbc.co.uk/news/uk-60579079   \n",
       "4      https://www.bbc.co.uk/news/business-60642786   \n",
       "\n",
       "                                                link  \\\n",
       "0  https://www.bbc.co.uk/news/world-europe-606380...   \n",
       "1  https://www.bbc.co.uk/news/world-europe-606418...   \n",
       "2  https://www.bbc.co.uk/news/business-60623941?a...   \n",
       "3  https://www.bbc.co.uk/news/uk-60579079?at_medi...   \n",
       "4  https://www.bbc.co.uk/news/business-60642786?a...   \n",
       "\n",
       "                                         description  \n",
       "0  The Ukrainian president says the country will ...  \n",
       "1  Jeremy Bowen was on the frontline in Irpin, as...  \n",
       "2  One of the world's biggest fertiliser firms sa...  \n",
       "3  The parents of the Manchester Arena bombing's ...  \n",
       "4  Consumers are feeling the impact of higher ene...  "
      ]
     },
     "execution_count": 1,
     "metadata": {},
     "output_type": "execute_result"
    }
   ],
   "source": [
    "import kagglehub\n",
    "import os\n",
    "import pandas as pd\n",
    "from pathlib import Path\n",
    "\n",
    "path = Path(kagglehub.dataset_download(\"gpreda/bbc-news\"), verify=False)\n",
    "print(\"Path to dataset files:\", path)\n",
    "print(\"Files in the dataset:\", os.listdir(path))\n",
    "df = pd.read_csv(path / os.listdir(path)[0])\n",
    "print(f\"Number of news: {len(df)}\")\n",
    "df.head()"
   ]
  },
  {
   "cell_type": "code",
   "execution_count": 33,
   "metadata": {},
   "outputs": [
    {
     "data": {
      "text/plain": [
       "Index(['title', 'pubDate', 'guid', 'link', 'description'], dtype='object')"
      ]
     },
     "execution_count": 33,
     "metadata": {},
     "output_type": "execute_result"
    }
   ],
   "source": [
    "df.columns"
   ]
  },
  {
   "cell_type": "markdown",
   "metadata": {},
   "source": [
    "Ok, so we have over 40000 news downloaded from BBC here.\n",
    "\n",
    "We are going to work with the question: what was being said about the war in Ukraine?\n",
    "\n",
    "## Exercise 1: data preparation\n",
    "\n",
    "First of all, we will need to find all news articles that talk about Brazil.\n",
    "\n",
    "We will need a regular expression that matches all of Brazil, Brazilian, and so on, and then we can use Pandas' built in methods to filter out the news:"
   ]
  },
  {
   "cell_type": "code",
   "execution_count": 11,
   "metadata": {},
   "outputs": [
    {
     "name": "stdout",
     "output_type": "stream",
     "text": [
      "138\n"
     ]
    },
    {
     "data": {
      "application/vnd.microsoft.datawrangler.viewer.v0+json": {
       "columns": [
        {
         "name": "index",
         "rawType": "int64",
         "type": "integer"
        },
        {
         "name": "title",
         "rawType": "object",
         "type": "string"
        },
        {
         "name": "pubDate",
         "rawType": "object",
         "type": "string"
        },
        {
         "name": "guid",
         "rawType": "object",
         "type": "string"
        },
        {
         "name": "link",
         "rawType": "object",
         "type": "string"
        },
        {
         "name": "description",
         "rawType": "object",
         "type": "string"
        }
       ],
       "conversionMethod": "pd.DataFrame",
       "ref": "49022ed7-acb7-49c1-a462-9deb01d3b0a3",
       "rows": [
        [
         "744",
         "Evangelicalism & Brazil: The religious movement that spread through a national team",
         "Tue, 22 Mar 2022 00:01:04 GMT",
         "https://www.bbc.co.uk/sport/football/60483820",
         "https://www.bbc.co.uk/sport/football/60483820?at_medium=RSS&at_campaign=KARANGA",
         "Evangelicalism within Brazil's national football team has been on the rise, mirroring a wider trend across the country."
        ],
        [
         "1392",
         "Brazil at work: Black and held back",
         "Tue, 05 Apr 2022 23:52:18 GMT",
         "https://www.bbc.co.uk/news/world-latin-america-60980009",
         "https://www.bbc.co.uk/news/world-latin-america-60980009?at_medium=RSS&at_campaign=KARANGA",
         "Brazil has one of the world's largest black populations but black people only hold 6% of managerial posts."
        ],
        [
         "1430",
         "Brazil at work: Black and held back",
         "Tue, 05 Apr 2022 23:52:18 GMT",
         "https://www.bbc.co.uk/news/world-latin-america-60980009",
         "https://www.bbc.co.uk/news/world-latin-america-60980009?at_medium=RSS&at_campaign=KARANGA",
         "Brazil has one of the largest black and mixed race populations but black people only hold 6% of managerial posts."
        ],
        [
         "2069",
         "Rio carnival: Brazil holds first Rio de Janeiro carnival since Covid",
         "Sun, 24 Apr 2022 01:49:24 GMT",
         "https://www.bbc.co.uk/news/world-latin-america-61205687",
         "https://www.bbc.co.uk/news/world-latin-america-61205687?at_medium=RSS&at_campaign=KARANGA",
         "Parades fill the streets of Brazil's Rio de Janeiro for the first carnival since the pandemic began."
        ],
        [
         "2154",
         "Brazil Carnival: 'Bolsonaro' dancer turned into crocodile",
         "Mon, 25 Apr 2022 12:12:53 GMT",
         "https://www.bbc.co.uk/news/world-latin-america-61216250",
         "https://www.bbc.co.uk/news/world-latin-america-61216250?at_medium=RSS&at_campaign=KARANGA",
         "Brazil's famous Carnival returned this year for the first time since the Covid pandemic."
        ]
       ],
       "shape": {
        "columns": 5,
        "rows": 5
       }
      },
      "text/html": [
       "<div>\n",
       "<style scoped>\n",
       "    .dataframe tbody tr th:only-of-type {\n",
       "        vertical-align: middle;\n",
       "    }\n",
       "\n",
       "    .dataframe tbody tr th {\n",
       "        vertical-align: top;\n",
       "    }\n",
       "\n",
       "    .dataframe thead th {\n",
       "        text-align: right;\n",
       "    }\n",
       "</style>\n",
       "<table border=\"1\" class=\"dataframe\">\n",
       "  <thead>\n",
       "    <tr style=\"text-align: right;\">\n",
       "      <th></th>\n",
       "      <th>title</th>\n",
       "      <th>pubDate</th>\n",
       "      <th>guid</th>\n",
       "      <th>link</th>\n",
       "      <th>description</th>\n",
       "    </tr>\n",
       "  </thead>\n",
       "  <tbody>\n",
       "    <tr>\n",
       "      <th>744</th>\n",
       "      <td>Evangelicalism &amp; Brazil: The religious movemen...</td>\n",
       "      <td>Tue, 22 Mar 2022 00:01:04 GMT</td>\n",
       "      <td>https://www.bbc.co.uk/sport/football/60483820</td>\n",
       "      <td>https://www.bbc.co.uk/sport/football/60483820?...</td>\n",
       "      <td>Evangelicalism within Brazil's national footba...</td>\n",
       "    </tr>\n",
       "    <tr>\n",
       "      <th>1392</th>\n",
       "      <td>Brazil at work: Black and held back</td>\n",
       "      <td>Tue, 05 Apr 2022 23:52:18 GMT</td>\n",
       "      <td>https://www.bbc.co.uk/news/world-latin-america...</td>\n",
       "      <td>https://www.bbc.co.uk/news/world-latin-america...</td>\n",
       "      <td>Brazil has one of the world's largest black po...</td>\n",
       "    </tr>\n",
       "    <tr>\n",
       "      <th>1430</th>\n",
       "      <td>Brazil at work: Black and held back</td>\n",
       "      <td>Tue, 05 Apr 2022 23:52:18 GMT</td>\n",
       "      <td>https://www.bbc.co.uk/news/world-latin-america...</td>\n",
       "      <td>https://www.bbc.co.uk/news/world-latin-america...</td>\n",
       "      <td>Brazil has one of the largest black and mixed ...</td>\n",
       "    </tr>\n",
       "    <tr>\n",
       "      <th>2069</th>\n",
       "      <td>Rio carnival: Brazil holds first Rio de Janeir...</td>\n",
       "      <td>Sun, 24 Apr 2022 01:49:24 GMT</td>\n",
       "      <td>https://www.bbc.co.uk/news/world-latin-america...</td>\n",
       "      <td>https://www.bbc.co.uk/news/world-latin-america...</td>\n",
       "      <td>Parades fill the streets of Brazil's Rio de Ja...</td>\n",
       "    </tr>\n",
       "    <tr>\n",
       "      <th>2154</th>\n",
       "      <td>Brazil Carnival: 'Bolsonaro' dancer turned int...</td>\n",
       "      <td>Mon, 25 Apr 2022 12:12:53 GMT</td>\n",
       "      <td>https://www.bbc.co.uk/news/world-latin-america...</td>\n",
       "      <td>https://www.bbc.co.uk/news/world-latin-america...</td>\n",
       "      <td>Brazil's famous Carnival returned this year fo...</td>\n",
       "    </tr>\n",
       "  </tbody>\n",
       "</table>\n",
       "</div>"
      ],
      "text/plain": [
       "                                                  title  \\\n",
       "744   Evangelicalism & Brazil: The religious movemen...   \n",
       "1392                Brazil at work: Black and held back   \n",
       "1430                Brazil at work: Black and held back   \n",
       "2069  Rio carnival: Brazil holds first Rio de Janeir...   \n",
       "2154  Brazil Carnival: 'Bolsonaro' dancer turned int...   \n",
       "\n",
       "                            pubDate  \\\n",
       "744   Tue, 22 Mar 2022 00:01:04 GMT   \n",
       "1392  Tue, 05 Apr 2022 23:52:18 GMT   \n",
       "1430  Tue, 05 Apr 2022 23:52:18 GMT   \n",
       "2069  Sun, 24 Apr 2022 01:49:24 GMT   \n",
       "2154  Mon, 25 Apr 2022 12:12:53 GMT   \n",
       "\n",
       "                                                   guid  \\\n",
       "744       https://www.bbc.co.uk/sport/football/60483820   \n",
       "1392  https://www.bbc.co.uk/news/world-latin-america...   \n",
       "1430  https://www.bbc.co.uk/news/world-latin-america...   \n",
       "2069  https://www.bbc.co.uk/news/world-latin-america...   \n",
       "2154  https://www.bbc.co.uk/news/world-latin-america...   \n",
       "\n",
       "                                                   link  \\\n",
       "744   https://www.bbc.co.uk/sport/football/60483820?...   \n",
       "1392  https://www.bbc.co.uk/news/world-latin-america...   \n",
       "1430  https://www.bbc.co.uk/news/world-latin-america...   \n",
       "2069  https://www.bbc.co.uk/news/world-latin-america...   \n",
       "2154  https://www.bbc.co.uk/news/world-latin-america...   \n",
       "\n",
       "                                            description  \n",
       "744   Evangelicalism within Brazil's national footba...  \n",
       "1392  Brazil has one of the world's largest black po...  \n",
       "1430  Brazil has one of the largest black and mixed ...  \n",
       "2069  Parades fill the streets of Brazil's Rio de Ja...  \n",
       "2154  Brazil's famous Carnival returned this year fo...  "
      ]
     },
     "execution_count": 11,
     "metadata": {},
     "output_type": "execute_result"
    }
   ],
   "source": [
    "import re\n",
    "regular_expression = r'Brazil\\w*' # Change for something that matches references to ukraine\n",
    "df_filt = df[df['description'].str.contains(regular_expression, case=False)]\n",
    "print(len(df_filt))\n",
    "df_filt.head()"
   ]
  },
  {
   "cell_type": "markdown",
   "metadata": {},
   "source": [
    "## Exercise 2: Document Frequency\n",
    "\n",
    "First, we will identify all words that exist in our texts. One way to do such thing is to concatenate all headlines and descriptions in a single text file, then separate all words using RegEx, and then use the `set()` function to identify each word:"
   ]
  },
  {
   "cell_type": "code",
   "execution_count": null,
   "metadata": {},
   "outputs": [
    {
     "name": "stdout",
     "output_type": "stream",
     "text": [
      "1283\n"
     ]
    }
   ],
   "source": [
    "all_descriptions = ' '.join(list(df_filt['description']))\n",
    "all_headlines = ' '.join(list(df_filt['title']))\n",
    "all_texts = all_descriptions + ' ' + all_headlines\n",
    "all_words = re.findall(r'\\b\\w+\\b', all_texts) # remove ponctuation\n",
    "all_unique_words = set(all_words)\n",
    "print(len(all_unique_words))"
   ]
  },
  {
   "cell_type": "code",
   "execution_count": 56,
   "metadata": {},
   "outputs": [
    {
     "data": {
      "text/plain": [
       "'Evangelicalism within Brazil\\'s national football team has been on the rise, mirroring a wider trend across the country. Brazil has one of the world\\'s largest black populations but black people only hold 6% of managerial posts. Brazil has one of the largest black and mixed race populations but black people only hold 6% of managerial posts. Parades fill the streets of Brazil\\'s Rio de Janeiro for the first carnival since the pandemic began. Brazil\\'s famous Carnival returned this year for the first time since the Covid pandemic. Brazil\\'s famous Carnival returned this year for the first time since the Covid pandemic. The Hollywood star urged Brazil\\'s youth to vote in October\\'s elections to save the Amazon. The former Brazilian president says he wants to unite the country and defend its democracy. Evangelical Christian women of colour were kingmakers in Brazil\\'s last presidential election and look set to be so again. Aston Villa agree a deal to sign Brazil centre-back Diego Carlos from Sevilla for £26m. People from Italy, Brazil, Ghana, Thailand and New Zealand discuss the impact of the cost of living crisis. Emerson Royal thanks an off-duty police officer who saved him from an armed robbery in Brazil. The journalist was travelling with a Brazilian indigenous expert in Brazil when they went missing. Two days after Dom Phillips disappeared, his wife appeals to Brazil to locate \"the love of my life\". Brazilian police say a suspect led investigators to a site where human remains were dug up. Author Andrew Downie pays tribute to Dom Phillips, who is feared dead after going missing in Brazil. The men were killed in Brazil\\'s Amazon earlier this month while returning from an expedition. Brazilian communities are combatting soaring food prices and a hunger crisis with urban gardens. How Brazil, the world\\'s largest grower of coffee, is turning to technology to boost production. Manchester United reach an agreement with Real Madrid to sign Brazil midfielder Casemiro in a deal worth up to £70m. Manchester United agree an £80m deal with Ajax for Brazil winger Antony. The last member of an uncontacted indigenous group in Brazil had lived in total isolation for decades. West Ham announce the \"club record signing\" of Brazil midfielder Lucas Paqueta from Lyon for £36.5m plus £14.4m of add-ons. BBC Sport takes a closer look at Antony\\'s journey from Brazil\\'s favelas to becoming Manchester United\\'s second-most expensive signing. Footage of a tribesman, who was the last survivor of an indigenous group in Brazil, shows him cutting down trees. Liverpool sign Juventus and Brazil midfielder Arthur Melo on season-long loan. The US has been taking a keen interest in who Brazil picks as its next president. Why? Brazil presidential hopefuls step up their social media campaigns with dancing, crying and celebrity endorsements. Delivery rider Luciano is just one of those going to extreme measures to survive Brazil\\'s cost of living crisis. For many voters in Brazil, the election is as much about who they want to keep out as who they want in. Some say the future of the largest rainforest in the world depends on who becomes Brazil\\'s president. Some say the future of the largest rainforest in the world depends on who becomes Brazil\\'s president. Poverty is a huge election issue as many Brazilians struggle amid the cost of living crisis. Brazilians on both sides of the political divide say they are anxious ahead of the deciding vote. From disputed polls to \"conspirituality\", Brazil\\'s presidential run-off has split society. As Brazil\\'s election - and the World Cup - approach, the famous yellow shirt is being politicised. The leftist who led Brazil in 2003-2011 makes a dramatic return - but unity may prove elusive. Images from Brazil as former president Lula beats incumbent Bolsonaro in the presidential election. Hat-trick scorer Amy Hardcastle says the record-breaking crowd inspired England to a 72-4 win over Brazil in their World Cup opener at Headingley. Brazil have won football\\'s biggest prize a record five times but still harbour their own stories of World Cup hurt. The Brazilian president-elect attracts huge emotional crowds at COP27 but faces opposition at home. Max Verstappen says the reaction to his role in the Red Bull team orders controversy in Brazil has been \"unacceptable\" and \"disgusting\". Brazil captain Thiago Silva says we will see a \"better Neymar\" at this World Cup after injury hampered his past two tournaments. Richarlison uses the World Cup stage to demonstrate why he is a first-choice for favourites Brazil at the 2022 World Cup, writes BBC Sport\\'s Phil McNulty. Watch Richarlison\\'s spectacular volley for Brazil against Serbia from every angle. Richarlison scores twice - including a stunning volley on the turn - as five-time winners Brazil open their World Cup campaign by beating Serbia. Brazil forward Neymar will miss their next two World Cup games after sustaining ligament damage in his right ankle, says their team doctor. Brazil head coach Tite says the high number of fouls on Neymar \"has to stop\" after the forward was injured in their group-stage victory over Serbia. Casemiro grabs a late winner as Brazil beat Switzerland 1-0 to progress to the last 16 at the World Cup. Cameroon are out of the World Cup despite securing a dramatic victory over Brazil at Lusail Stadium in their final Group G match. As Brazil fever hits Lusail Stadium in Doha, BBC Sport travels to their group finale against Cameroon with their thousands of fans. Brazil great Pele is \"still undergoing treatment and remains stable\" according to a statement from his hospital in Sao Paulo. Preview followed by live coverage of Monday\\'s Fifa World Cup second-round match between Brazil and South Korea. Brazil deliver an ominous message to their World Cup rivals with a dazzling display of attacking brilliance to dismantle South Korea and set up a quarter-final against Croatia. Brazil\\'s dominant performance against Croatia in the last 16 of the World Cup is the biggest indicator of their prowess during this year\\'s tournament, writes Phil McNulty. Carnival dancing, world-class goals, party tricks in abundance and plenty in yellow enjoying themselves - this was Brazil at their magical best. First-half goals from Vinicius Jr, Neymar, Richarlison and Lucas Paqueta book Brazil\\'s place in the quarter-finals of the World Cup after a dominant 4-1 victory over South Korea. Watch as Brazil put on a scintillating display of football and dancing during their 4-1 victory over South Korea. Croatia are ready to challenge \"terrifying favourites\" Brazil in their World Cup quarter-final on Friday, says manager Zlatko Dalic. The South Korean ambassador to Brazil hosted a party as the two countries clashed in the World Cup. Why Brazil\\'s dominant performance against South Korea in the last 16 of the World Cup is the biggest indicator of their prowess during this tournament. South Korea coach Paulo Bento says he is leaving his role following his team\\'s elimination from the 2022 World Cup against Brazil. Croatia take on Brazil, the Netherlands face Argentina, Morocco meet Portugal and England are up against France in the World Cup quarter-finals - here\\'s all the key details. Two appetizing showdowns - Croatia v Brazil and Netherlands v Argentina - kick off the World Cup quarter-final stage on Friday, and you can watch it all on the BBC. Can Luke Modric inspire Croatia to a shock World Cup quarter-final victory against Brazil in Qatar on Friday? Brazil had danced into the quarter-finals of the World Cup but their dreams of a showpiece jig in the final ended in tears at Education City Stadium. Watch the full penalty shootout as Croatia beat Brazil to progress to the World Cup semi-finals. PSG putting together package to sign Manchester United\\'s Rashford, Brazil\\'s FA plans to contact Manchester City boss Guardiola, three English clubs make offers for Gvardiol, plus more. Watch some of the best goals from the 2022 World Cup, featuring Marcus Rashford\\'s free-kick for England against Wales and strikes by Brazil forward Richarlison and Kylian Mbappe of France. Brazil great Pele\\'s cancer is advancing, according to the hospital where the 82-year-old is being treated. Brazil legend Pele, who is regarded by many as football\\'s greatest player, dies at the age of 82. Tributes to Brazilian football icon Pele following his death and the financial toll of strikes lead the front pages. \"King\" Pele \"changed everything\", says Brazil forward Neymar as tributes pour in for the late footballing legend. Watch some of the best World Cup goals scored by legendary Brazilian forward Pele. Watch as Brazil legend Pele discusses the pivotal parts of his footballing career. BBC Sport looks back to Pele\\'s hat-trick against France in the 1958 World Cup semi-final which later saw Brazil become world champions. In the latest of our World Cup icons series, BBC Sport tells the story of Pele and his role in helping Brazil bring us the beautiful game in 1970. Pelé won his first World Cup only 70 years after slavery was finally abolished in Brazil. Premier League and English Football League clubs wore black armbands and held a minute\\'s applause before kick-off in Friday\\'s games in honour of Brazil legend Pele. Watch some of the best World Cup goals scored by legendary Brazil forward Pele. Brazil begins its first day of mourning the late footballing legend as landmarks are lit up in tribute. Pelé won his first World Cup only 70 years after slavery was finally abolished in Brazil. Thousands of mourners pay their respects to Brazil legend Pele who is lying in state at the stadium of his former club, Santos. How Brazil\\'s Congress came to be stormed by supporters of ex-President Bolsonaro. The BBC\\'s Analysis editor looks at the recent history behind Sunday’s riots in the Brazilian capital. Brazil mourns the loss of key parts of its artistic collection damaged by rioters. More than 40 people have been killed in landslides which hit coastal towns in Brazil\\'s São Paulo state. England beat Brazil in a dramatic penalty shootout to win the first Women\\'s Finalissima and extend their unbeaten run to 30 games. Nicolás Maduro was banned from visiting Brazil by the country\\'s former far-right leader. The aircraft is reported to have links to a Brazilian branch of an evangelical church. Seven people are punished for acts of racism towards Real Madrid\\'s Brazil forward Vinicius Jr. Brazilian winger Willian rejoins Fulham and signs a new one-year contract with the London club. What to expect from day five of the Fifa Women\\'s World Cup, with Italy facing Argentina, Germany playing Morocco and Brazil meeting Panama. Watch Brazil\\'s Bia Zaneratto score a \"sublime\" goal to put her side three goals ahead as they take on Panama at the Fifa Women\\'s World Cup in Hindmarsh. Captain Wendie Renard scores a late headed winner as France beat Brazil in a thrilling Group F game in Brisbane at the 2023 Fifa Women\\'s World Cup. Brazil midfielder Fabinho completes a move to Saudi Arabian club Al-Ittihad from Liverpool on a three-year deal. Brazil legend Marta is moved to tears in a news conference before what could be her 23rd and final Women\\'s World Cup match. The Nigerian migrants hoped to travel to Europe, but ended up thousands of miles away in Brazil. A summit in Brazil sees the countries that share the Amazon basin agree only to a new alliance on the issue. Four Nigerian stowaways set out for Europe on a tanker rudder. Two weeks later they were in Brazil. Brazil withdraw Manchester United winger Antony from their squad following allegations of abuse by his former girlfriend. Manchester United\\'s Antony appears on Brazilian TV to deny allegations of assault saying \"I never attacked any woman\". How a convicted murderer from Brazil escaped a prison and eluded police so far. A so-called Brazilian butt-lift is the fastest-growing form of cosmetic surgery, despite the risks. Brazil\\'s Supreme Court is to vote on decriminalising abortion in the first 12 weeks of pregnancy. Manchester United\\'s Brazilian winger Antony is to return to training after allegations of domestic abuse were made against him. Brazil and Al-Hilal forward Neymar will have surgery after rupturing his anterior cruciate ligament while on international duty. The US pop star says she is putting safety first after temperatures in the Brazilian city reached 39.1C. The US pop star says she is putting safety first as the Brazilian city experiences an extreme heatwave. Manchester City\\'s players have a once \"in-our-lifetime\" opportunity when they face Brazil\\'s Fluminense in the Club World Cup final, says manager Pep Guardiola. The fan collapsed at a Taylor Swift concert in Rio de Janeiro during a heatwave in the Brazilian city. The ex-Brazil and Barcelona defender denies the assault, saying the sex was consensual. Brazil\\'s president is accused by Israel of \"crossing a red line\" after he made the comparison in a speech. A court in Spain has sentenced Alves, who played for Barcelona and Brazil, to four and a half years. The indictment paves the way for the former Brazilian president to face possible criminal charges. The former Brazil international was convicted in Italy for his part in a gang rape in 2013. Bukayo Saka withdraws from the England squad for the forthcoming friendlies against Brazil and Belgium because of injury. Brazil\\'s new teenage sensation Endrick strikes late on to condemn England to defeat in a scrappy friendly at Wembley. England\\'s 1-0 defeat by Brazil at Wembley was a \"brutal and timely\" reminder of familiar problems, according to BBC Sport\\'s Phil McNulty. He is the Wembley history maker who has been likened to Romario - but who is Brazil\\'s latest wonderkid Endrick? French and Brazilian presidents share moments of friendship with world during tour of Amazon. Brazilian workers face degrading conditions to harvest palm wax used in sweets, pills and lipstick. As India holds an election, all eyes are on Uttar Pradesh, a state with more people than Brazil. The Brazilian president sees the Brics as a way to remake the world - but it is dominated by China. Manchester City sign Brazil winger Savinho from French side Troyes until 2029 in a deal worth 40m euros (£30.8m). A striking image of Brazilian surfer Gabriel Medina in Tahiti has captured imaginations across the globe. A striking image of Brazilian surfer Gabriel Medina at Paris 2024 has captured imaginations across the globe.  Watch as Brazilian surfer Gabriel Medina catches an \"incredible wave\" to set up a photograph that went viral at the Paris 2024 Olympics. A striking image of Brazilian surfer Gabriel Medina at Paris 2024 has captured imaginations across the globe.  Brazil\\'s all-time leading goalscorer Marta walks off the pitch in tears after being shown a straight red card during their 2-0 defeat by Spain in the Olympic women\\'s football tournament. British judoka Dan Powell takes -90kg J1 silver after losing to Brazil\\'s Arthur Cavalcante da Silva in Paris. Manchester United manager Erik ten Hag says Brazil winger Antony must \"earn the right\" to play. Alice Webb, 33, died on Tuesday morning after reportedly undergoing a \"Brazilian butt lift\".  Mother-of-five Alice Webb, 33, died after reportedly undergoing a \"Brazilian butt lift\". Minutes after Real Madrid fans were singing for Vinicius Jr to win the Ballon d\\'Or, the Brazil forward insisted he wants to \"stay at the club forever\". Two Brazilian sailors prepare for a voyage that will change their lives forever The Brazilian was shot when he was wrongly suspected of being a terrorist after the 7 July bombings. The family of Alice Webb, 33, gather to remember the mum who died after undergoing a Brazilian Butt Lift.'"
      ]
     },
     "execution_count": 56,
     "metadata": {},
     "output_type": "execute_result"
    }
   ],
   "source": [
    "all_descriptions"
   ]
  },
  {
   "cell_type": "markdown",
   "metadata": {},
   "source": [
    "The underlying theory of opinion mining is that words that convey opinion (or: that convey the \"common sense\" of a dataset) appear in more documents. The number of documents in which a word appears is called *document frequency*.\n",
    "\n",
    "We could build a dictionary in which keys are the words in our vocabulary and the values are the number of documents that word appears in. Remember, this is not the same as counting how many times that word was used: if the words appears in two documents, its frequency should be 2; however, if it appears twice in a single document, then its frequency should be 1.\n",
    "\n",
    "After that, we can divide the counts by the number of documents so your dictionary contains the probability that a randomly selected document contains each word (or: $P(w_n | d)$).\n",
    "\n",
    "We could study fast algorithms to calculate document frequency, but, instead, we are going to use the ready-made `CountVectorizer` class from `sklearn`.\n",
    "\n",
    "CountVectorizer creates a $X \\in \\mathbb{R}^{N \\times V}$ matrix where $N$ is the number of documents in the collection and $V$ is the vocabulary size. The element $x_{n,v}$ is $1$ if word $v$ appears in document $n$, and $0$ otherwise.\n",
    "\n",
    "CountVectorizer also creates a `vocabulary_` property containing a dictionary that maps words to their indexes in the matrix.\n",
    "\n",
    "We can use that to create a dictionary mapping words to their document frequency. \n",
    "\n",
    "The final dictionary should look like:\n",
    "\n",
    "    { \n",
    "      'word1' : number_of_documents_word1_appears/total_number_of_documents,\n",
    "      'word2' : number_of_documents_word2_appears/total_number_of_documents,\n",
    "      ...\n",
    "      'wordn' : number_of_documents_wordn_appears/total_number_of_documents,\n",
    "    }\n",
    "\n",
    "HINT: use `np.mean(x ,axis=0)` to calculate the mean value of a matrix along the rows."
   ]
  },
  {
   "cell_type": "code",
   "execution_count": 34,
   "metadata": {},
   "outputs": [],
   "source": [
    "from sklearn.feature_extraction.text import CountVectorizer\n",
    "\n",
    "vectorizer = CountVectorizer(binary=True)\n",
    "X = vectorizer.fit_transform(df_filt['description'])\n",
    "\n",
    "\n",
    "# Does the word 'the' appear in document 3?\n",
    "#X[3, vectorizer.vocabulary_['the']]\n",
    "\n",
    "# Continue with your solution\n",
    "doc_freq_matrix = X.mean(axis=0)\n",
    "doc_freq = {\n",
    "    word: doc_freq_matrix[0, vectorizer.vocabulary_[word]]\n",
    "    for word in vectorizer.vocabulary_\n",
    "}"
   ]
  },
  {
   "cell_type": "markdown",
   "metadata": {},
   "source": [
    "**Understanding better with example:**\n",
    "\n",
    "  ``` python\n",
    "  import numpy as np\n",
    "  from sklearn.feature_extraction.text import CountVectorizer\n",
    "\n",
    "  # 🔹 Conjunto de documentos (exemplo)\n",
    "  documents = [\n",
    "      \"I love cats and dogs\",\n",
    "      \"Cats are great pets\",\n",
    "      \"I have a dog\",\n",
    "      \"Dogs are loyal\"\n",
    "  ]\n",
    "\n",
    "  # 🔹 Matrix - Count of words\n",
    "  vectorizer = CountVectorizer(binary=True)  # binary=True faz com que seja 1 se a palavra estiver no documento\n",
    "  X = vectorizer.fit_transform(documents)  # Transforma os textos em matriz binária\n",
    "\n",
    "  # 🔹 Obtendo o vocabulário (palavra → índice)\n",
    "  vocab = vectorizer.vocabulary_\n",
    "\n",
    "  # 🔹 Calculando a frequência do documento\n",
    "  doc_freq = np.mean(X.toarray(), axis=0)  # Calcula a média ao longo dos documentos\n",
    "\n",
    "  # 🔹 Criando o dicionário de document frequency\n",
    "  doc_freq_dict = {word: doc_freq[idx] for word, idx in vocab.items()}\n",
    "\n",
    "  # 🔹 Exibindo os resultados\n",
    "  print(\"Frequência nos documentos (Document Frequency):\")\n",
    "  print(doc_freq_dict)\n",
    "  ```\n",
    "\n",
    "**Output:**\n",
    "```\n",
    "{\n",
    "  'i': 0.5,\n",
    "  'love': 0.25,\n",
    "  'cats': 0.5,\n",
    "  'and': 0.25,\n",
    "  'dogs': 0.5,\n",
    "  'are': 0.5,\n",
    "  'great': 0.25,\n",
    "  'pets': 0.25,\n",
    "  'have': 0.25,\n",
    "  'a': 0.25,\n",
    "  'dog': 0.5,\n",
    "  'loyal': 0.25\n",
    "}\n",
    "```"
   ]
  },
  {
   "cell_type": "markdown",
   "metadata": {},
   "source": [
    "## Exercise 3: stopwords"
   ]
  },
  {
   "cell_type": "markdown",
   "metadata": {},
   "source": [
    "Now, see some useful manipulations. We can convert our dictionary to a Pandas dataframe and plot some values as a barplot:"
   ]
  },
  {
   "cell_type": "code",
   "execution_count": 38,
   "metadata": {},
   "outputs": [
    {
     "data": {
      "image/png": "[encoded data removed]",
      "text/plain": [
       "<Figure size 1500x200 with 1 Axes>"
      ]
     },
     "metadata": {},
     "output_type": "display_data"
    }
   ],
   "source": [
    "import matplotlib.pyplot as plt\n",
    "import pandas as pd \n",
    "df_vocabulary = pd.DataFrame(doc_freq.items(), columns=['word', 'frequency'])\n",
    "df_vocabulary = df_vocabulary.sort_values(by='frequency', ascending=False)\n",
    "df_vocabulary.head()\n",
    "plt.figure(figsize=(15,2))\n",
    "plt.bar(df_vocabulary.iloc[0:25]['word'], df_vocabulary[0:25]['frequency'])\n",
    "plt.xticks(rotation=90)\n",
    "plt.show()"
   ]
  },
  {
   "cell_type": "markdown",
   "metadata": {},
   "source": [
    "### Meaning of `stop_words`:\n",
    "\n",
    "Note that there are some words that are so common that they don't tell us much about the problem, like \"the\" and \"a\". These types of words are usually avoided by using a manually-curated list of special words called \"stopwords\". We can inform our vectorizer to use a pre-made list of stop words by using the `stop_words` parameter:\n",
    "\n",
    "    vectorizer = CountVectorizer(binary=True, stop_words='english')\n",
    "\n",
    "Now, go ahead and incorporate the parameters, and run the code above again. What changes do you see in the plot?\n",
    "\n",
    "According to this plot, what could be said about the news on Ukraine?"
   ]
  },
  {
   "cell_type": "code",
   "execution_count": 39,
   "metadata": {},
   "outputs": [],
   "source": [
    "vectorizer = CountVectorizer(binary=True, stop_words='english')\n",
    "\n",
    "X = vectorizer.fit_transform(df_filt['description'])\n",
    "\n",
    "doc_freq_matrix = X.mean(axis=0)\n",
    "\n",
    "doc_freq = {\n",
    "    word: doc_freq_matrix[0, vectorizer.vocabulary_[word]]\n",
    "    for word in vectorizer.vocabulary_\n",
    "}"
   ]
  },
  {
   "cell_type": "code",
   "execution_count": 40,
   "metadata": {},
   "outputs": [
    {
     "data": {
      "image/png": "[encoded data removed]",
      "text/plain": [
       "<Figure size 1500x200 with 1 Axes>"
      ]
     },
     "metadata": {},
     "output_type": "display_data"
    }
   ],
   "source": [
    "df_vocabulary = pd.DataFrame(doc_freq.items(), columns=['word', 'frequency'])\n",
    "df_vocabulary = df_vocabulary.sort_values(by='frequency', ascending=False)\n",
    "df_vocabulary.head()\n",
    "plt.figure(figsize=(15,2))\n",
    "plt.bar(df_vocabulary.iloc[0:25]['word'], df_vocabulary[0:25]['frequency'])\n",
    "plt.xticks(rotation=90)\n",
    "plt.show()"
   ]
  },
  {
   "cell_type": "markdown",
   "metadata": {},
   "source": [
    "## Exercise 4: lemmatization\n",
    "\n",
    "If everything went well, you should be seeing \"say\" and \"says\" with high document frequencies. However, they carry very similar information - hence they should be together.\n",
    "\n",
    "One way to deal with that is to remember that words are composed of a stem and a suffix (like \"liquid\", \"liquidification\", \"liquidize\", and so on). The process of removing the suffix is called \"stemming\". There are some interesting processes to perform stemming.\n",
    "\n",
    "Another approach is to use lemmatization. In lemmatization, each word is changed by its dictionary entry. It is a great process to remove plurals, for example.\n",
    "\n",
    "There are stemmers and lemmatizers implemented in the NLTK library:"
   ]
  },
  {
   "cell_type": "code",
   "execution_count": 41,
   "metadata": {},
   "outputs": [
    {
     "name": "stderr",
     "output_type": "stream",
     "text": [
      "[nltk_data] Downloading package wordnet to\n",
      "[nltk_data]     /Users/luccahiratsuca/nltk_data...\n",
      "[nltk_data]   Package wordnet is already up-to-date!\n"
     ]
    },
    {
     "name": "stdout",
     "output_type": "stream",
     "text": [
      "say say\n"
     ]
    }
   ],
   "source": [
    "import nltk\n",
    "from nltk.stem import WordNetLemmatizer, PorterStemmer\n",
    "\n",
    "# Download WordNet data\n",
    "nltk.download('wordnet')\n",
    "\n",
    "lemmatizer = WordNetLemmatizer()\n",
    "lemmatized_word = lemmatizer.lemmatize(\"says\")\n",
    "\n",
    "stemmed = PorterStemmer()\n",
    "stemmed_word = stemmed.stem(\"says\")\n",
    "print(lemmatized_word, stemmed_word)"
   ]
  },
  {
   "cell_type": "markdown",
   "metadata": {},
   "source": [
    "However, NLTK's implementation operates in a single word.\n",
    "\n",
    "Make functions to apply stemming to each word in the dataset, and then run your code again. After that, try it with lemmatization. Which one is clearer?"
   ]
  },
  {
   "cell_type": "code",
   "execution_count": 66,
   "metadata": {},
   "outputs": [
    {
     "name": "stderr",
     "output_type": "stream",
     "text": [
      "/var/folders/0b/t7v75s011nxd0q97zmc5_fm80000gn/T/ipykernel_64340/3809336576.py:9: SettingWithCopyWarning: \n",
      "A value is trying to be set on a copy of a slice from a DataFrame.\n",
      "Try using .loc[row_indexer,col_indexer] = value instead\n",
      "\n",
      "See the caveats in the documentation: https://pandas.pydata.org/pandas-docs/stable/user_guide/indexing.html#returning-a-view-versus-a-copy\n",
      "  df_filt['lematizados'] = df_filt['description'].apply(lematizar_texto)\n"
     ]
    }
   ],
   "source": [
    "def lematizar_texto(texto):\n",
    "    palavras = re.findall(r'\\w+', texto)\n",
    "    palavras_lematizadas = []\n",
    "    for p in palavras:\n",
    "        pl = lemmatizer.lemmatize(p)\n",
    "        palavras_lematizadas.append(pl)\n",
    "    return ' '.join(palavras_lematizadas)\n",
    "\n",
    "df_filt['lematizados'] = df_filt['description'].apply(lematizar_texto)"
   ]
  },
  {
   "cell_type": "markdown",
   "metadata": {},
   "source": [
    "## Exercise 5: the inverted index\n",
    "\n",
    "You might have figured out by now that searching for words in a large collection is very inneficient. To avoid such searches, many databases implement a data structure called an \"inverted index\".\n",
    "\n",
    "The inverted index is essentially a dictionary whose key is a word from the vocabulary, and whose value is a list (or set) of references to documents that contain that word.\n",
    "\n",
    "As an example, the inverted index below:\n",
    "\n",
    "    {\n",
    "        'brazil' : [0, 1, 2],\n",
    "        'argentina' : [2, 3]\n",
    "    }\n",
    "\n",
    "means that \"brazil\" appears in documents 0, 1, and 2, while \"argentina\" appears in documents 2 and 3.\n",
    "\n",
    "You might want to stem/lemmatize the words before implementing the inverted index.\n",
    "\n",
    "(a) Complete the function below to generate an inverted index for a news dataframe, which will allow searching among news based on keywords. HINT: use `CountVectorizer` to save yourself some time!\n",
    "\n",
    "(b) Use your inverted index to search for news documents that contain \"brazil\" AND \"president\". What does the DF distribution say in this case?\n",
    "\n",
    "(c) Use your inverted index to search for news documents that contain \"brazil\" BUT DO NOT CONTAIN \"football\" or \"soccer\". How is the DF distribution in this case?"
   ]
  },
  {
   "cell_type": "code",
   "execution_count": 44,
   "metadata": {},
   "outputs": [],
   "source": [
    "from typing import Dict\n",
    "\n",
    "def make_inverted_index_from_df(df : pd.DataFrame) -> Dict:\n",
    "    return {}"
   ]
  },
  {
   "cell_type": "markdown",
   "metadata": {},
   "source": [
    "## Exercise 6: Topic modelling\n",
    "\n",
    "Remember that our documents are now represented in a $X \\in \\mathbb{R}^{D \\times V}$ matrix. In this matrix, each word is completely independent from each other. However, we know that some words are more likely to appear together in real texts.\n",
    "\n",
    "These groups of words that appear together are called \"topics\". The act of finding topics is called \"topic modelling\". One of the current state-of-the-art ideas for topic modelling is called [Latent Dirichlet Allocation](https://www.jmlr.org/papers/volume3/blei03a/blei03a.pdf), or LDA.\n",
    "\n",
    "LDA is a fast technique that assumes $X$ contains discrete counts of words in each document, and then calculates an approximation:\n",
    "\n",
    "$$\n",
    "X \\approx B A,\n",
    "$$\n",
    "\n",
    "where $B \\in \\mathbb{R}^{D \\times T}$ and $A \\in \\mathbb{R}^{T \\times V}$, and $T$ is an arbitrarily chosen number of topics. Essentially, $B$ informs how much each document participates in each topic, and $A$ informs how much each word in the vocabulary participates in each topic.\n",
    "\n",
    "The code to use LDA adequately is a bit tricky.\n",
    "\n",
    "Here is one example. Interpret the outputs, and then try to change the number of topics.\n",
    "\n",
    "Which matrix ($B$ or $A$) is represented by `lda_model.components_`?"
   ]
  },
  {
   "cell_type": "code",
   "execution_count": null,
   "metadata": {},
   "outputs": [
    {
     "name": "stdout",
     "output_type": "stream",
     "text": [
      "Topic 0 (12 documents):\n",
      "president black world brazilian country football people record largest managerial\n",
      "Topic 1 (12 documents):\n",
      "world cup south late beat korea years finals won dominant\n",
      "Topic 2 (15 documents):\n",
      "manchester united antony winger deal sign city brazilian allegations sport\n",
      "Topic 3 (12 documents):\n",
      "cup world quarter croatia watch final victory england neymar forward\n",
      "Topic 4 (15 documents):\n",
      "brazilian butt lift year undergoing webb died alice 33 club\n",
      "Topic 5 (15 documents):\n",
      "world cup says women final football team games role tears\n",
      "Topic 6 (16 documents):\n",
      "election presidential crisis people cost living new amazon state issue\n",
      "Topic 7 (11 documents):\n",
      "brazilian gabriel surfer medina paris imaginations globe striking captured image\n",
      "Topic 8 (19 documents):\n",
      "pele brazilian forward watch cup world group indigenous match goals\n",
      "Topic 9 (11 documents):\n",
      "world cup mcnulty phil largest bbc england richarlison wembley defeat\n"
     ]
    }
   ],
   "source": [
    "from sklearn.feature_extraction.text import CountVectorizer\n",
    "from sklearn.decomposition import LatentDirichletAllocation\n",
    "from sklearn.pipeline import Pipeline\n",
    "\n",
    "pipeline = Pipeline([\n",
    "    ('vectorizer', CountVectorizer(\n",
    "        stop_words='english',\n",
    "        max_df=0.7,\n",
    "        min_df=2,\n",
    "    )),\n",
    "    ('lda',\n",
    "     LatentDirichletAllocation(\n",
    "         n_components=10,\n",
    "         max_iter=300,\n",
    "         random_state=42,\n",
    "     )),\n",
    "])\n",
    "\n",
    "pipeline.fit(df_filt['description'])\n",
    "\n",
    "lda_output = pipeline.transform(df_filt['description'])\n",
    "lda_model = pipeline.named_steps['lda']\n",
    "feature_names = pipeline.named_steps['vectorizer'].get_feature_names_out()\n",
    "\n",
    "# Print the most prominent words in each topic\n",
    "# Print the number of documents whose most prominent topic is this one\n",
    "most_prominent_topic = lda_output.argmax(axis=1)\n",
    "for topic_idx, topic in enumerate(lda_model.components_):\n",
    "    num_documents = (most_prominent_topic == topic_idx).sum()\n",
    "    print(f\"Topic {topic_idx} ({num_documents} documents):\")\n",
    "    print(\" \".join([feature_names[i] for i in topic.argsort()[:-11:-1]]))"
   ]
  },
  {
   "cell_type": "markdown",
   "metadata": {},
   "source": [
    "## Exercise 7: a solution with LLMs\n",
    "\n",
    "So far, we have learned how to use classic NLP techniques to get a gist of the news. However, large language models (LLMs) seem to be the new state of the art for such. \n",
    "\n",
    "Well, we would like a summary of all news related to Brazil. Our classical methods are highly biased by the fact that most news are about football - let's see what LLMs can do for us here!\n",
    "\n",
    "For such, we will use Google Gemni, which has a great free tier that is just enough for our learning purposes. Go to https://aistudio.google.com/ and get yourself an API key. Then, add the key to the `.env` file in your system.\n",
    "\n",
    "Check how prompting works - it is essentially like using ChatGPT.\n",
    "\n",
    "1. Can you control the prompts so that summaries are more verbose or less verbose?\n",
    "1. What happens if you don't provide the model with the news you want a summary of - maybe changing the prompt to \"give me a summary of news in Brazil from 2022 to 2024\"?\n",
    "1. What happens if you ask a direct question?\n",
    "1. How does these summaries compare with the topics generated by LDA?"
   ]
  },
  {
   "cell_type": "code",
   "execution_count": 59,
   "metadata": {},
   "outputs": [
    {
     "name": "stdout",
     "output_type": "stream",
     "text": [
      "These news items cover a wide range of topics related to Brazil, including:\n",
      "\n",
      "**Politics and Society:**\n",
      "\n",
      "* **Presidential Elections:**  The 2022 Brazilian presidential election was a major focus, with coverage of candidates' campaigns, the election results (Lula's victory),  voter anxieties, and the subsequent storming of the Congress by Bolsonaro supporters.  The influence of Evangelical Christians, particularly women of color, in the election is highlighted.  The US's keen interest in the outcome is also noted.\n",
      "* **Social Issues:**  Brazil's racial inequality is addressed, showing the underrepresentation of Black people in managerial positions.  The cost of living crisis and its impact on the population, including extreme measures taken by some to survive, are discussed.  The hunger crisis and community responses are also mentioned.  The ongoing debate surrounding abortion is noted.\n",
      "* **Amazon Rainforest:** The future of the Amazon rainforest is tied to the presidential election results, underscoring its importance.\n",
      "* **Indigenous Peoples:**  The tragic disappearance and murder of journalist Dom Phillips in the Amazon, along with the plight of an uncontacted indigenous group, are reported.\n",
      "\n",
      "\n",
      "**Sports:**\n",
      "\n",
      "* **Football:**  Numerous articles cover the Brazilian national football team, including their World Cup 2022 performance (reaching the quarter-finals before being eliminated by Croatia),  individual player performances (Neymar, Richarlison, Casemiro, Antony), and the passing of football legend Pelé.  Transfer news involving Brazilian players moving to European clubs is also included. The women's national team's performance in the World Cup is covered, as is a friendly match against England.\n",
      "* **Other Sports:**  News about Brazilian athletes in other sports such as surfing (Gabriel Medina) and judo is also present.\n",
      "\n",
      "\n",
      "**Other News:**\n",
      "\n",
      "* **Carnival:** The return of Rio's Carnival after the pandemic is noted.\n",
      "* **Crime:**  Incidents such as armed robbery, murder, and prison escapes are reported.\n",
      "* **Health:** The risks associated with Brazilian butt lift surgery are highlighted, along with the death of a woman undergoing the procedure.  Pele's health and passing are extensively covered.  Neymar's injury is also reported.\n",
      "* **International Relations:**  Brazil's relationship with other countries, including the US, Israel, and the countries sharing the Amazon basin, is touched upon.\n",
      "* **Economy:**  The use of technology in coffee production and the impact of the global cost of living crisis on Brazil are mentioned.\n",
      "\n",
      "\n",
      "In short, the news items provide a multifaceted view of Brazil, encompassing its political climate, social issues, sporting achievements, and significant events.\n",
      "\n"
     ]
    }
   ],
   "source": [
    "import os\n",
    "from dotenv import load_dotenv\n",
    "import google.generativeai as genai\n",
    "load_dotenv()\n",
    "GEMINI_API_KEY = os.getenv('GEMINI_API_KEY')\n",
    "#GEMINI_API_KEY = # Go to https://aistudio.google.com/ to get a key. DO NOT commit your key to the repository!\n",
    "\n",
    "# Start the use of the API\n",
    "genai.configure(api_key=GEMINI_API_KEY)\n",
    "model = genai.GenerativeModel(model_name=\"gemini-1.5-flash\")\n",
    "\n",
    "# Make our prompt here\n",
    "news = '\\n\\nAnother news '.join(list(df_filt['description']))\n",
    "prompt = f\"I have these pieces of news: {news}. Can you summarize them for me?\"\n",
    "\n",
    "# Use our prompt\n",
    "response = model.generate_content(prompt)\n",
    "\n",
    "# Print our response\n",
    "print(response.text)"
   ]
  },
  {
   "cell_type": "markdown",
   "metadata": {},
   "source": [
    "## Exercise 8: combining everything\n",
    "\n",
    "In general, the more we provide LLMs with specific information in the prompt, the better is its output (also, using less data can decrease our cloud costs...). Based on the code above, make a proof-of-concept code (probably within this notebook?) that first uses LDA to roughly identify topics, and then uses the LLM to make a summary of documents within a topic chosen by the user.\n"
   ]
  },
  {
   "cell_type": "code",
   "execution_count": 90,
   "metadata": {},
   "outputs": [
    {
     "data": {
      "text/plain": [
       "2154     Brazil's famous Carnival returned this year fo...\n",
       "2195     Brazil's famous Carnival returned this year fo...\n",
       "10477    The Brazilian president-elect attracts huge em...\n",
       "17706    The aircraft is reported to have links to a Br...\n",
       "19354    Brazilian winger Willian rejoins Fulham and si...\n",
       "20047    Brazil midfielder Fabinho completes a move to ...\n",
       "22222    A so-called Brazilian butt-lift is the fastest...\n",
       "25262    The US pop star says she is putting safety fir...\n",
       "25331    The US pop star says she is putting safety fir...\n",
       "31398    Brazilian workers face degrading conditions to...\n",
       "38796    British judoka Dan Powell takes -90kg J1 silve...\n",
       "39456    Alice Webb, 33, died on Tuesday morning after ...\n",
       "39506    Mother-of-five Alice Webb, 33, died after repo...\n",
       "40944    The Brazilian was shot when he was wrongly sus...\n",
       "41135    The family of Alice Webb, 33, gather to rememb...\n",
       "Name: description, dtype: object"
      ]
     },
     "execution_count": 90,
     "metadata": {},
     "output_type": "execute_result"
    }
   ],
   "source": [
    "filter_topic = most_prominent_topic == 4\n",
    "df_topic = df_filt[filter_topic]\n",
    "len(df_topic)\n",
    "\n",
    "df_topic['description']"
   ]
  },
  {
   "cell_type": "code",
   "execution_count": 91,
   "metadata": {},
   "outputs": [
    {
     "name": "stdout",
     "output_type": "stream",
     "text": [
      "# Brazil-Related News Summary\n",
      "\n",
      "This collection of news items covers a range of topics related to Brazil:\n",
      "\n",
      "**Culture & Events:**\n",
      "\n",
      "* **Carnival's Return:** Brazil's Carnival celebrated its return after a Covid-19 hiatus.\n",
      "\n",
      "**Politics & Society:**\n",
      "\n",
      "* **President-Elect at COP27:** Brazil's president-elect drew large crowds at COP27 but faces domestic opposition.\n",
      "* **Evangelical Church Link:** An aircraft is reportedly linked to a Brazilian evangelical church branch.\n",
      "* **Worker Exploitation:** Brazilian workers endure harsh conditions harvesting palm wax used in various products.\n",
      "\n",
      "**Sports:**\n",
      "\n",
      "* **Willian's Fulham Return:** Brazilian winger Willian rejoined Fulham on a one-year contract.\n",
      "* **Fabinho's Saudi Move:** Brazilian midfielder Fabinho transferred to Saudi Arabian club Al-Ittihad.\n",
      "* **Judo Competition:** British judoka Dan Powell won silver, losing to a Brazilian competitor.\n",
      "\n",
      "**Health & Safety:**\n",
      "\n",
      "* **Brazilian Butt Lift Risks:**  The Brazilian butt lift is the fastest-growing cosmetic surgery, despite significant risks.  Two separate news items report the death of Alice Webb, 33, following this procedure.  Her family is also mentioned in a separate report.\n",
      "* **Extreme Heat:** A US pop star prioritized safety due to extreme heat in a Brazilian city.\n",
      "\n",
      "**Other:**\n",
      "\n",
      "* **Terrorism Misidentification:** A Brazilian man was wrongly suspected of being a terrorist and shot after the 7/7 London bombings.\n",
      "\n",
      "\n",
      "This summary groups the news items thematically for better understanding.  The repeated reporting on Alice Webb's death highlights the dangers associated with the Brazilian butt lift procedure.\n",
      "\n"
     ]
    }
   ],
   "source": [
    "news = '\\n\\nAnother news '.join(list(df_topic['description']))\n",
    "prompt = f\"I have these pieces of news: {news}. Can you summarize them for me?. Response in markdown format.\"\n",
    "\n",
    "# Use our prompt\n",
    "response = model.generate_content(prompt)\n",
    "\n",
    "# Print our response\n",
    "print(response.text)"
   ]
  },
  {
   "cell_type": "markdown",
   "metadata": {},
   "source": [
    "## Minhas Notas:"
   ]
  },
  {
   "cell_type": "markdown",
   "metadata": {},
   "source": [
    "### Lemmatização vs Stemming: O que são e qual a diferença?"
   ]
  },
  {
   "cell_type": "markdown",
   "metadata": {},
   "source": [
    "Tanto a lemmatização quanto o stemming são técnicas de Processamento de Linguagem Natural (NLP) usadas para reduzir palavras à sua forma base.\n",
    "\n",
    "1. 🔹 Stemming → Corta sufixos das palavras para obter uma raiz bruta. \n",
    "\n",
    "    O stemming usa regras simples de corte de sufixos para reduzir uma palavra à sua raiz. Ele não leva em conta o significado da palavra, então pode gerar palavras que não existem no dicionário.\n",
    "\n",
    "    Exemplo:\n",
    "\n",
    "    | Palavra | Stemming |\n",
    "    |---------|----------|\n",
    "    | running | run      |\n",
    "    | better  | bet      |\n",
    "    | swimming| swim     |\n",
    "    | studying| study    |\n",
    "    \n",
    "    O stemming é mais rápido que a lemmatização, mas pode não ser tão preciso.\n",
    "</br>\n",
    "\n",
    "2. 🔹 Lemmatização → Reduz palavras à sua forma dicionarizada (ou seja, sua raiz correta, chamada lema).\n",
    "    Ela usa dicionários linguísticos para encontrar o lema (forma canônica) de uma palavra.\n",
    "\n",
    "    Exemplo:\n",
    "    | Palavra | Lemmatização |\n",
    "    |---------|--------------|\n",
    "    | running | run          |\n",
    "    | better  | good         |\n",
    "    | swimming| swim         |\n",
    "    | studying| study        |\n",
    "\n",
    "    ✅ Vantagem: Gera palavras corretas e gramaticalmente coerentes.\n",
    "\n",
    "    ❌ Desvantagem: Mais lento, pois precisa acessar dicionários.\n",
    "\n"
   ]
  },
  {
   "cell_type": "markdown",
   "metadata": {},
   "source": [
    "### Topic Modeling com LDA"
   ]
  },
  {
   "cell_type": "markdown",
   "metadata": {},
   "source": [
    "1. **Topic Modeling:**\n",
    "\n",
    "    Essa é uma técnica de Processamento de Linguagem Natural (NLP) usada para encontrar grupos de palavras que frequentemente aparecem juntas em um conjunto de documentos.\n",
    "    Esses grupos de palavras são chamados de tópicos.\n",
    "\n",
    "    Exemplo:\n",
    "    Se tivermos um conjunto de notícias, um modelo pode identificar que palavras como \"goal\", \"match\", \"team\" aparecem juntas em artigos sobre esportes, enquanto \"election\", \"government\", \"policy\" aparecem em artigos sobre política."
   ]
  },
  {
   "cell_type": "markdown",
   "metadata": {},
   "source": [
    "2. **LDA**\n",
    "\n",
    "    O LDA (Latent Dirichlet Allocation) é um algoritmo probabilístico que assume que cada documento é composto por uma mistura de tópicos e que cada tópico é uma mistura de palavras.\n",
    "\n",
    "    O LDA decompõe a matriz X (documentos x palavras) em duas matrizes:\n",
    "\n",
    "    $$\n",
    "    X \\approx B \\times A\n",
    "    $$\n",
    "\n",
    "\n",
    "    Onde:\n",
    "\n",
    "    - X → Matriz original de contagem de palavras (D × V)\n",
    "    - B → Matriz Documentos x Tópicos (D × T)\n",
    "    - A → Matriz Tópicos x Palavras (T × V)\n",
    "    - T → Número arbitrário de tópicos escolhidos\n",
    "\n",
    "\n",
    "    🔹 Interpretação das matrizes:\n",
    "\n",
    "    - B (document-topic matrix) → Diz quanto cada documento pertence a cada tópico.\n",
    "    - A (topic-word matrix) → Diz quanto cada palavra pertence a cada tópico."
   ]
  },
  {
   "cell_type": "markdown",
   "metadata": {},
   "source": [
    "---\n",
    "**Falando de código e exemplo:**\n",
    "\n",
    "```python\n",
    "\n",
    "import numpy as np\n",
    "from sklearn.feature_extraction.text import CountVectorizer\n",
    "from sklearn.decomposition import LatentDirichletAllocation\n",
    "\n",
    "# 🔹 Conjunto de documentos de exemplo\n",
    "documents = [\n",
    "    \"I love playing football\",\n",
    "    \"Football is a great sport\",\n",
    "    \"The government passed a new law\",\n",
    "    \"Elections will happen next year\",\n",
    "    \"I enjoy watching movies\",\n",
    "    \"Movies are a great way to relax\"\n",
    "]\n",
    "\n",
    "# 🔹 Criando a matriz de contagem de palavras\n",
    "vectorizer = CountVectorizer()\n",
    "X = vectorizer.fit_transform(documents)\n",
    "\n",
    "# 🔹 Criando o modelo LDA com 2 tópicos\n",
    "lda_model = LatentDirichletAllocation(n_components=2, random_state=42)\n",
    "lda_model.fit(X)\n",
    "\n",
    "# 🔹 Obtendo os tópicos e palavras mais importantes\n",
    "words = np.array(vectorizer.get_feature_names_out())\n",
    "\n",
    "for topic_idx, topic in enumerate(lda_model.components_):\n",
    "    print(f\"\\n🔹 Tópico {topic_idx + 1}:\")\n",
    "    top_words = words[np.argsort(topic)[-5:]]  # Top 5 palavras mais relevantes\n",
    "    print(\"   \", \" \".join(top_words))\n",
    "\n",
    "```\n",
    "\n",
    "- Quanto maior o número de tópicos, mais específicos eles serão.\n",
    "- Se diminuirmos o número de tópicos (`n_components=1`), ele tentará juntar tudo em um único tema."
   ]
  },
  {
   "cell_type": "markdown",
   "metadata": {},
   "source": []
  }
 ],
 "metadata": {
  "kernelspec": {
   "display_name": "env",
   "language": "python",
   "name": "python3"
  },
  "language_info": {
   "codemirror_mode": {
    "name": "ipython",
    "version": 3
   },
   "file_extension": ".py",
   "mimetype": "text/x-python",
   "name": "python",
   "nbconvert_exporter": "python",
   "pygments_lexer": "ipython3",
   "version": "3.10.10"
  }
 },
 "nbformat": 4,
 "nbformat_minor": 2
}
