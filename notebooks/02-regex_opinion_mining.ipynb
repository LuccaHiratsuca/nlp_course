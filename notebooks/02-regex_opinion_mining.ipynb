{
 "cells": [
  {
   "cell_type": "markdown",
   "metadata": {},
   "source": [
    "# DF: What are these texts about?\n",
    "\n",
    "In many situations, we want our computers to summarize a big set of texts. Perhaps we don't want to go into detail, but we wish to know what people are talking about. This is a great source of information, because it allows something called *opinion mining*: are people talking positively about an artist? About a company? About the government?\n",
    "\n",
    "Also, if you are collecting feedback, you might want to find out what are the main points your customers are complaining about.\n",
    "\n",
    "We will get started by downloading a dataset with news from Kaggle:"
   ]
  },
  {
   "cell_type": "code",
   "execution_count": 33,
   "metadata": {},
   "outputs": [
    {
     "name": "stdout",
     "output_type": "stream",
     "text": [
      "Path to dataset files: /Users/luccahiratsuca/.cache/kagglehub/datasets/gpreda/bbc-news/versions/1007\n",
      "Files in the dataset: ['bbc_news.csv']\n",
      "Number of news: 42115\n"
     ]
    },
    {
     "data": {
      "text/html": [
       "<div>\n",
       "<style scoped>\n",
       "    .dataframe tbody tr th:only-of-type {\n",
       "        vertical-align: middle;\n",
       "    }\n",
       "\n",
       "    .dataframe tbody tr th {\n",
       "        vertical-align: top;\n",
       "    }\n",
       "\n",
       "    .dataframe thead th {\n",
       "        text-align: right;\n",
       "    }\n",
       "</style>\n",
       "<table border=\"1\" class=\"dataframe\">\n",
       "  <thead>\n",
       "    <tr style=\"text-align: right;\">\n",
       "      <th></th>\n",
       "      <th>title</th>\n",
       "      <th>pubDate</th>\n",
       "      <th>guid</th>\n",
       "      <th>link</th>\n",
       "      <th>description</th>\n",
       "    </tr>\n",
       "  </thead>\n",
       "  <tbody>\n",
       "    <tr>\n",
       "      <th>0</th>\n",
       "      <td>Ukraine: Angry Zelensky vows to punish Russian...</td>\n",
       "      <td>Mon, 07 Mar 2022 08:01:56 GMT</td>\n",
       "      <td>https://www.bbc.co.uk/news/world-europe-60638042</td>\n",
       "      <td>https://www.bbc.co.uk/news/world-europe-606380...</td>\n",
       "      <td>The Ukrainian president says the country will ...</td>\n",
       "    </tr>\n",
       "    <tr>\n",
       "      <th>1</th>\n",
       "      <td>War in Ukraine: Taking cover in a town under a...</td>\n",
       "      <td>Sun, 06 Mar 2022 22:49:58 GMT</td>\n",
       "      <td>https://www.bbc.co.uk/news/world-europe-60641873</td>\n",
       "      <td>https://www.bbc.co.uk/news/world-europe-606418...</td>\n",
       "      <td>Jeremy Bowen was on the frontline in Irpin, as...</td>\n",
       "    </tr>\n",
       "    <tr>\n",
       "      <th>2</th>\n",
       "      <td>Ukraine war 'catastrophic for global food'</td>\n",
       "      <td>Mon, 07 Mar 2022 00:14:42 GMT</td>\n",
       "      <td>https://www.bbc.co.uk/news/business-60623941</td>\n",
       "      <td>https://www.bbc.co.uk/news/business-60623941?a...</td>\n",
       "      <td>One of the world's biggest fertiliser firms sa...</td>\n",
       "    </tr>\n",
       "    <tr>\n",
       "      <th>3</th>\n",
       "      <td>Manchester Arena bombing: Saffie Roussos's par...</td>\n",
       "      <td>Mon, 07 Mar 2022 00:05:40 GMT</td>\n",
       "      <td>https://www.bbc.co.uk/news/uk-60579079</td>\n",
       "      <td>https://www.bbc.co.uk/news/uk-60579079?at_medi...</td>\n",
       "      <td>The parents of the Manchester Arena bombing's ...</td>\n",
       "    </tr>\n",
       "    <tr>\n",
       "      <th>4</th>\n",
       "      <td>Ukraine conflict: Oil price soars to highest l...</td>\n",
       "      <td>Mon, 07 Mar 2022 08:15:53 GMT</td>\n",
       "      <td>https://www.bbc.co.uk/news/business-60642786</td>\n",
       "      <td>https://www.bbc.co.uk/news/business-60642786?a...</td>\n",
       "      <td>Consumers are feeling the impact of higher ene...</td>\n",
       "    </tr>\n",
       "  </tbody>\n",
       "</table>\n",
       "</div>"
      ],
      "text/plain": [
       "                                               title  \\\n",
       "0  Ukraine: Angry Zelensky vows to punish Russian...   \n",
       "1  War in Ukraine: Taking cover in a town under a...   \n",
       "2         Ukraine war 'catastrophic for global food'   \n",
       "3  Manchester Arena bombing: Saffie Roussos's par...   \n",
       "4  Ukraine conflict: Oil price soars to highest l...   \n",
       "\n",
       "                         pubDate  \\\n",
       "0  Mon, 07 Mar 2022 08:01:56 GMT   \n",
       "1  Sun, 06 Mar 2022 22:49:58 GMT   \n",
       "2  Mon, 07 Mar 2022 00:14:42 GMT   \n",
       "3  Mon, 07 Mar 2022 00:05:40 GMT   \n",
       "4  Mon, 07 Mar 2022 08:15:53 GMT   \n",
       "\n",
       "                                               guid  \\\n",
       "0  https://www.bbc.co.uk/news/world-europe-60638042   \n",
       "1  https://www.bbc.co.uk/news/world-europe-60641873   \n",
       "2      https://www.bbc.co.uk/news/business-60623941   \n",
       "3            https://www.bbc.co.uk/news/uk-60579079   \n",
       "4      https://www.bbc.co.uk/news/business-60642786   \n",
       "\n",
       "                                                link  \\\n",
       "0  https://www.bbc.co.uk/news/world-europe-606380...   \n",
       "1  https://www.bbc.co.uk/news/world-europe-606418...   \n",
       "2  https://www.bbc.co.uk/news/business-60623941?a...   \n",
       "3  https://www.bbc.co.uk/news/uk-60579079?at_medi...   \n",
       "4  https://www.bbc.co.uk/news/business-60642786?a...   \n",
       "\n",
       "                                         description  \n",
       "0  The Ukrainian president says the country will ...  \n",
       "1  Jeremy Bowen was on the frontline in Irpin, as...  \n",
       "2  One of the world's biggest fertiliser firms sa...  \n",
       "3  The parents of the Manchester Arena bombing's ...  \n",
       "4  Consumers are feeling the impact of higher ene...  "
      ]
     },
     "execution_count": 33,
     "metadata": {},
     "output_type": "execute_result"
    }
   ],
   "source": [
    "import kagglehub\n",
    "import os\n",
    "import pandas as pd\n",
    "from pathlib import Path\n",
    "\n",
    "path = Path(kagglehub.dataset_download(\"gpreda/bbc-news\"), verify=False)\n",
    "print(\"Path to dataset files:\", path)\n",
    "print(\"Files in the dataset:\", os.listdir(path))\n",
    "df = pd.read_csv(path / os.listdir(path)[0])\n",
    "print(f\"Number of news: {len(df)}\")\n",
    "df.head()"
   ]
  },
  {
   "cell_type": "markdown",
   "metadata": {},
   "source": [
    "Ok, so we have over 40000 news downloaded from BBC here.\n",
    "\n",
    "We are going to work with the question: what was being said about the war in Ukraine?\n",
    "\n",
    "## Exercise 1: data preparation\n",
    "\n",
    "First of all, we will need to find all news articles that talk about Brazil.\n",
    "\n",
    "We will need a regular expression that matches all of Brazil, Brazilian, and so on, and then we can use Pandas' built in methods to filter out the news:"
   ]
  },
  {
   "cell_type": "code",
   "execution_count": 34,
   "metadata": {},
   "outputs": [
    {
     "name": "stdout",
     "output_type": "stream",
     "text": [
      "138\n"
     ]
    },
    {
     "data": {
      "text/html": [
       "<div>\n",
       "<style scoped>\n",
       "    .dataframe tbody tr th:only-of-type {\n",
       "        vertical-align: middle;\n",
       "    }\n",
       "\n",
       "    .dataframe tbody tr th {\n",
       "        vertical-align: top;\n",
       "    }\n",
       "\n",
       "    .dataframe thead th {\n",
       "        text-align: right;\n",
       "    }\n",
       "</style>\n",
       "<table border=\"1\" class=\"dataframe\">\n",
       "  <thead>\n",
       "    <tr style=\"text-align: right;\">\n",
       "      <th></th>\n",
       "      <th>title</th>\n",
       "      <th>pubDate</th>\n",
       "      <th>guid</th>\n",
       "      <th>link</th>\n",
       "      <th>description</th>\n",
       "    </tr>\n",
       "  </thead>\n",
       "  <tbody>\n",
       "    <tr>\n",
       "      <th>744</th>\n",
       "      <td>Evangelicalism &amp; Brazil: The religious movemen...</td>\n",
       "      <td>Tue, 22 Mar 2022 00:01:04 GMT</td>\n",
       "      <td>https://www.bbc.co.uk/sport/football/60483820</td>\n",
       "      <td>https://www.bbc.co.uk/sport/football/60483820?...</td>\n",
       "      <td>Evangelicalism within Brazil's national footba...</td>\n",
       "    </tr>\n",
       "    <tr>\n",
       "      <th>1392</th>\n",
       "      <td>Brazil at work: Black and held back</td>\n",
       "      <td>Tue, 05 Apr 2022 23:52:18 GMT</td>\n",
       "      <td>https://www.bbc.co.uk/news/world-latin-america...</td>\n",
       "      <td>https://www.bbc.co.uk/news/world-latin-america...</td>\n",
       "      <td>Brazil has one of the world's largest black po...</td>\n",
       "    </tr>\n",
       "    <tr>\n",
       "      <th>1430</th>\n",
       "      <td>Brazil at work: Black and held back</td>\n",
       "      <td>Tue, 05 Apr 2022 23:52:18 GMT</td>\n",
       "      <td>https://www.bbc.co.uk/news/world-latin-america...</td>\n",
       "      <td>https://www.bbc.co.uk/news/world-latin-america...</td>\n",
       "      <td>Brazil has one of the largest black and mixed ...</td>\n",
       "    </tr>\n",
       "    <tr>\n",
       "      <th>2069</th>\n",
       "      <td>Rio carnival: Brazil holds first Rio de Janeir...</td>\n",
       "      <td>Sun, 24 Apr 2022 01:49:24 GMT</td>\n",
       "      <td>https://www.bbc.co.uk/news/world-latin-america...</td>\n",
       "      <td>https://www.bbc.co.uk/news/world-latin-america...</td>\n",
       "      <td>Parades fill the streets of Brazil's Rio de Ja...</td>\n",
       "    </tr>\n",
       "    <tr>\n",
       "      <th>2154</th>\n",
       "      <td>Brazil Carnival: 'Bolsonaro' dancer turned int...</td>\n",
       "      <td>Mon, 25 Apr 2022 12:12:53 GMT</td>\n",
       "      <td>https://www.bbc.co.uk/news/world-latin-america...</td>\n",
       "      <td>https://www.bbc.co.uk/news/world-latin-america...</td>\n",
       "      <td>Brazil's famous Carnival returned this year fo...</td>\n",
       "    </tr>\n",
       "  </tbody>\n",
       "</table>\n",
       "</div>"
      ],
      "text/plain": [
       "                                                  title  \\\n",
       "744   Evangelicalism & Brazil: The religious movemen...   \n",
       "1392                Brazil at work: Black and held back   \n",
       "1430                Brazil at work: Black and held back   \n",
       "2069  Rio carnival: Brazil holds first Rio de Janeir...   \n",
       "2154  Brazil Carnival: 'Bolsonaro' dancer turned int...   \n",
       "\n",
       "                            pubDate  \\\n",
       "744   Tue, 22 Mar 2022 00:01:04 GMT   \n",
       "1392  Tue, 05 Apr 2022 23:52:18 GMT   \n",
       "1430  Tue, 05 Apr 2022 23:52:18 GMT   \n",
       "2069  Sun, 24 Apr 2022 01:49:24 GMT   \n",
       "2154  Mon, 25 Apr 2022 12:12:53 GMT   \n",
       "\n",
       "                                                   guid  \\\n",
       "744       https://www.bbc.co.uk/sport/football/60483820   \n",
       "1392  https://www.bbc.co.uk/news/world-latin-america...   \n",
       "1430  https://www.bbc.co.uk/news/world-latin-america...   \n",
       "2069  https://www.bbc.co.uk/news/world-latin-america...   \n",
       "2154  https://www.bbc.co.uk/news/world-latin-america...   \n",
       "\n",
       "                                                   link  \\\n",
       "744   https://www.bbc.co.uk/sport/football/60483820?...   \n",
       "1392  https://www.bbc.co.uk/news/world-latin-america...   \n",
       "1430  https://www.bbc.co.uk/news/world-latin-america...   \n",
       "2069  https://www.bbc.co.uk/news/world-latin-america...   \n",
       "2154  https://www.bbc.co.uk/news/world-latin-america...   \n",
       "\n",
       "                                            description  \n",
       "744   Evangelicalism within Brazil's national footba...  \n",
       "1392  Brazil has one of the world's largest black po...  \n",
       "1430  Brazil has one of the largest black and mixed ...  \n",
       "2069  Parades fill the streets of Brazil's Rio de Ja...  \n",
       "2154  Brazil's famous Carnival returned this year fo...  "
      ]
     },
     "execution_count": 34,
     "metadata": {},
     "output_type": "execute_result"
    }
   ],
   "source": [
    "import re\n",
    "regular_expression = r'Brazil\\w*' # Change for something that matches references to ukraine\n",
    "df_filt = df[df['description'].str.contains(regular_expression, case=False)]\n",
    "print(len(df_filt))\n",
    "df_filt.head()"
   ]
  },
  {
   "cell_type": "markdown",
   "metadata": {},
   "source": [
    "## Exercise 2: Document Frequency\n",
    "\n",
    "First, we will identify all words that exist in our texts. One way to do such thing is to concatenate all headlines and descriptions in a single text file, then separate all words using RegEx, and then use the `set()` function to identify each word:"
   ]
  },
  {
   "cell_type": "code",
   "execution_count": 35,
   "metadata": {},
   "outputs": [
    {
     "name": "stdout",
     "output_type": "stream",
     "text": [
      "1283\n"
     ]
    }
   ],
   "source": [
    "all_descriptions = ' '.join(list(df_filt['description']))\n",
    "all_headlines = ' '.join(list(df_filt['title']))\n",
    "all_texts = all_descriptions + ' ' + all_headlines\n",
    "all_words = re.findall(r'\\b\\w+\\b', all_texts)\n",
    "all_unique_words = set(all_words)\n",
    "print(len(all_unique_words))"
   ]
  },
  {
   "cell_type": "markdown",
   "metadata": {},
   "source": [
    "The underlying theory of opinion mining is that words that convey opinion (or: that convey the \"common sense\" of a dataset) appear in more documents. The number of documents in which a word appears is called *document frequency*.\n",
    "\n",
    "We could build a dictionary in which keys are the words in our vocabulary and the values are the number of documents that word appears in. Remember, this is not the same as counting how many times that word was used: if the words appears in two documents, its frequency should be 2; however, if it appears twice in a single document, then its frequency should be 1.\n",
    "\n",
    "After that, we can divide the counts by the number of documents so your dictionary contains the probability that a randomly selected document contains each word (or: $P(w_n | d)$).\n",
    "\n",
    "We could study fast algorithms to calculate document frequency, but, instead, we are going to use the ready-made `CountVectorizer` class from `sklearn`.\n",
    "\n",
    "CountVectorizer creates a $X \\in \\mathbb{R}^{N \\times V}$ matrix where $N$ is the number of documents in the collection and $V$ is the vocabulary size. The element $x_{n,v}$ is $1$ if word $v$ appears in document $n$, and $0$ otherwise.\n",
    "\n",
    "CountVectorizer also creates a `vocabulary_` property containing a dictionary that maps words to their indexes in the matrix.\n",
    "\n",
    "We can use that to create a dictionary mapping words to their document frequency. \n",
    "\n",
    "The final dictionary should look like:\n",
    "\n",
    "    { \n",
    "      'word1' : number_of_documents_word1_appears/total_number_of_documents,\n",
    "      'word2' : number_of_documents_word2_appears/total_number_of_documents,\n",
    "      ...\n",
    "      'wordn' : number_of_documents_wordn_appears/total_number_of_documents,\n",
    "    }\n",
    "\n",
    "HINT: use `np.mean(x ,axis=0)` to calculate the mean value of a matrix along the rows."
   ]
  },
  {
   "cell_type": "code",
   "execution_count": 36,
   "metadata": {},
   "outputs": [],
   "source": [
    "from sklearn.feature_extraction.text import CountVectorizer\n",
    "\n",
    "vectorizer = CountVectorizer(binary=True)\n",
    "X = vectorizer.fit_transform(df_filt['description'])\n",
    "\n",
    "# Does the word 'the' appear in document 3?\n",
    "#X[3, vectorizer.vocabulary_['the']]\n",
    "\n",
    "# Continue with your solution\n",
    "doc_freq_matrix = X.mean(axis=0)\n",
    "doc_freq = {\n",
    "    word: doc_freq_matrix[0, vectorizer.vocabulary_[word]]\n",
    "    for word in vectorizer.vocabulary_\n",
    "}"
   ]
  },
  {
   "cell_type": "markdown",
   "metadata": {},
   "source": [
    "## Exercise 3: stopwords"
   ]
  },
  {
   "cell_type": "markdown",
   "metadata": {},
   "source": [
    "Now, see some useful manipulations. We can convert our dictionary to a Pandas dataframe and plot some values as a barplot:"
   ]
  },
  {
   "cell_type": "code",
   "execution_count": 37,
   "metadata": {},
   "outputs": [
    {
     "data": {
      "image/png": "[encoded data removed]",
      "text/plain": [
       "<Figure size 1500x200 with 1 Axes>"
      ]
     },
     "metadata": {},
     "output_type": "display_data"
    }
   ],
   "source": [
    "import matplotlib.pyplot as plt\n",
    "import pandas as pd \n",
    "df_vocabulary = pd.DataFrame(doc_freq.items(), columns=['word', 'frequency'])\n",
    "df_vocabulary = df_vocabulary.sort_values(by='frequency', ascending=False)\n",
    "df_vocabulary.head()\n",
    "plt.figure(figsize=(15,2))\n",
    "plt.bar(df_vocabulary.iloc[0:25]['word'], df_vocabulary[0:25]['frequency'])\n",
    "plt.xticks(rotation=90)\n",
    "plt.show()"
   ]
  },
  {
   "cell_type": "markdown",
   "metadata": {},
   "source": [
    "Note that there are some words that are so common that they don't tell us much about the problem, like \"the\" and \"a\". These types of words are usually avoided by using a manually-curated list of special words called \"stopwords\". We can inform our vectorizer to use a pre-made list of stop words by using the `stop_words` parameter:\n",
    "\n",
    "    vectorizer = CountVectorizer(binary=True, stop_words='english')\n",
    "\n",
    "Now, go ahead and incorporate the parameters, and run the code above again. What changes do you see in the plot?\n",
    "\n",
    "According to this plot, what could be said about the news on Ukraine?"
   ]
  },
  {
   "cell_type": "code",
   "execution_count": 38,
   "metadata": {},
   "outputs": [],
   "source": [
    "vectorizer = CountVectorizer(binary=True, stop_words='english')\n",
    "\n",
    "X = vectorizer.fit_transform(df_filt['description'])\n",
    "\n",
    "doc_freq_matrix = X.mean(axis=0)\n",
    "\n",
    "doc_freq = {\n",
    "    word: doc_freq_matrix[0, vectorizer.vocabulary_[word]]\n",
    "    for word in vectorizer.vocabulary_\n",
    "}"
   ]
  },
  {
   "cell_type": "code",
   "execution_count": 39,
   "metadata": {},
   "outputs": [
    {
     "data": {
      "image/png": "[encoded data removed]",
      "text/plain": [
       "<Figure size 1500x200 with 1 Axes>"
      ]
     },
     "metadata": {},
     "output_type": "display_data"
    }
   ],
   "source": [
    "df_vocabulary = pd.DataFrame(doc_freq.items(), columns=['word', 'frequency'])\n",
    "df_vocabulary = df_vocabulary.sort_values(by='frequency', ascending=False)\n",
    "df_vocabulary.head()\n",
    "plt.figure(figsize=(15,2))\n",
    "plt.bar(df_vocabulary.iloc[0:25]['word'], df_vocabulary[0:25]['frequency'])\n",
    "plt.xticks(rotation=90)\n",
    "plt.show()"
   ]
  },
  {
   "cell_type": "markdown",
   "metadata": {},
   "source": [
    "## Exercise 4: lemmatization\n",
    "\n",
    "If everything went well, you should be seeing \"say\" and \"says\" with high document frequencies. However, they carry very similar information - hence they should be together.\n",
    "\n",
    "One way to deal with that is to remember that words are composed of a stem and a suffix (like \"liquid\", \"liquidification\", \"liquidize\", and so on). The process of removing the suffix is called \"stemming\". There are some interesting processes to perform stemming.\n",
    "\n",
    "Another approach is to use lemmatization. In lemmatization, each word is changed by its dictionary entry. It is a great process to remove plurals, for example.\n",
    "\n",
    "There are stemmers and lemmatizers implemented in the NLTK library:"
   ]
  },
  {
   "cell_type": "code",
   "execution_count": 40,
   "metadata": {},
   "outputs": [
    {
     "name": "stdout",
     "output_type": "stream",
     "text": [
      "say say\n"
     ]
    },
    {
     "name": "stderr",
     "output_type": "stream",
     "text": [
      "[nltk_data] Downloading package wordnet to\n",
      "[nltk_data]     /Users/luccahiratsuca/nltk_data...\n",
      "[nltk_data]   Package wordnet is already up-to-date!\n"
     ]
    }
   ],
   "source": [
    "import nltk\n",
    "from nltk.stem import WordNetLemmatizer, PorterStemmer\n",
    "\n",
    "# Download WordNet data\n",
    "nltk.download('wordnet')\n",
    "\n",
    "lemmatizer = WordNetLemmatizer()\n",
    "lemmatized_word = lemmatizer.lemmatize(\"says\")\n",
    "\n",
    "stemmed = PorterStemmer()\n",
    "stemmed_word = stemmed.stem(\"says\")\n",
    "print(lemmatized_word, stemmed_word)"
   ]
  },
  {
   "cell_type": "markdown",
   "metadata": {},
   "source": [
    "However, NLTK's implementation operates in a single word.\n",
    "\n",
    "Make functions to apply stemming to each word in the dataset, and then run your code again. After that, try it with lemmatization. Which one is clearer?"
   ]
  },
  {
   "cell_type": "code",
   "execution_count": 54,
   "metadata": {},
   "outputs": [],
   "source": [
    "# Make your solution here\n",
    "def stemming_word(word):\n",
    "    return stemmed.stem(re.findall(r'\\w+', word))\n",
    "\n",
    "def lemmatizing_word(word):\n",
    "    return lemmatizer.lemmatize(re.findall(r'\\w+', word))"
   ]
  },
  {
   "cell_type": "code",
   "execution_count": 56,
   "metadata": {},
   "outputs": [
    {
     "ename": "AttributeError",
     "evalue": "'list' object has no attribute 'lower'",
     "output_type": "error",
     "traceback": [
      "\u001b[0;31m---------------------------------------------------------------------------\u001b[0m",
      "\u001b[0;31mAttributeError\u001b[0m                            Traceback (most recent call last)",
      "Cell \u001b[0;32mIn[56], line 1\u001b[0m\n\u001b[0;32m----> 1\u001b[0m df_stemming \u001b[38;5;241m=\u001b[39m \u001b[43mdf\u001b[49m\u001b[43m[\u001b[49m\u001b[38;5;124;43m'\u001b[39;49m\u001b[38;5;124;43mdescription\u001b[39;49m\u001b[38;5;124;43m'\u001b[39;49m\u001b[43m]\u001b[49m\u001b[38;5;241;43m.\u001b[39;49m\u001b[43mapply\u001b[49m\u001b[43m(\u001b[49m\u001b[38;5;28;43;01mlambda\u001b[39;49;00m\u001b[43m \u001b[49m\u001b[43mx\u001b[49m\u001b[43m:\u001b[49m\u001b[43m \u001b[49m\u001b[38;5;124;43m'\u001b[39;49m\u001b[38;5;124;43m \u001b[39;49m\u001b[38;5;124;43m'\u001b[39;49m\u001b[38;5;241;43m.\u001b[39;49m\u001b[43mjoin\u001b[49m\u001b[43m(\u001b[49m\u001b[43m[\u001b[49m\u001b[43mstemming_word\u001b[49m\u001b[43m(\u001b[49m\u001b[43mword\u001b[49m\u001b[43m)\u001b[49m\u001b[43m \u001b[49m\u001b[38;5;28;43;01mfor\u001b[39;49;00m\u001b[43m \u001b[49m\u001b[43mword\u001b[49m\u001b[43m \u001b[49m\u001b[38;5;129;43;01min\u001b[39;49;00m\u001b[43m \u001b[49m\u001b[43mx\u001b[49m\u001b[43m]\u001b[49m\u001b[43m)\u001b[49m\u001b[43m)\u001b[49m\n\u001b[1;32m      2\u001b[0m df_lemming \u001b[38;5;241m=\u001b[39m df[\u001b[38;5;124m'\u001b[39m\u001b[38;5;124mdescription\u001b[39m\u001b[38;5;124m'\u001b[39m]\u001b[38;5;241m.\u001b[39mapply(\u001b[38;5;28;01mlambda\u001b[39;00m x: \u001b[38;5;124m'\u001b[39m\u001b[38;5;124m \u001b[39m\u001b[38;5;124m'\u001b[39m\u001b[38;5;241m.\u001b[39mjoin([lemmatizing_word(word) \u001b[38;5;28;01mfor\u001b[39;00m word \u001b[38;5;129;01min\u001b[39;00m x]))\n\u001b[1;32m      4\u001b[0m df_lemming\u001b[38;5;241m.\u001b[39mhead()\n",
      "File \u001b[0;32m~/Github/Insper/7 Semestre/nlp_course/env/lib/python3.10/site-packages/pandas/core/series.py:4924\u001b[0m, in \u001b[0;36mSeries.apply\u001b[0;34m(self, func, convert_dtype, args, by_row, **kwargs)\u001b[0m\n\u001b[1;32m   4789\u001b[0m \u001b[38;5;28;01mdef\u001b[39;00m\u001b[38;5;250m \u001b[39m\u001b[38;5;21mapply\u001b[39m(\n\u001b[1;32m   4790\u001b[0m     \u001b[38;5;28mself\u001b[39m,\n\u001b[1;32m   4791\u001b[0m     func: AggFuncType,\n\u001b[0;32m   (...)\u001b[0m\n\u001b[1;32m   4796\u001b[0m     \u001b[38;5;241m*\u001b[39m\u001b[38;5;241m*\u001b[39mkwargs,\n\u001b[1;32m   4797\u001b[0m ) \u001b[38;5;241m-\u001b[39m\u001b[38;5;241m>\u001b[39m DataFrame \u001b[38;5;241m|\u001b[39m Series:\n\u001b[1;32m   4798\u001b[0m \u001b[38;5;250m    \u001b[39m\u001b[38;5;124;03m\"\"\"\u001b[39;00m\n\u001b[1;32m   4799\u001b[0m \u001b[38;5;124;03m    Invoke function on values of Series.\u001b[39;00m\n\u001b[1;32m   4800\u001b[0m \n\u001b[0;32m   (...)\u001b[0m\n\u001b[1;32m   4915\u001b[0m \u001b[38;5;124;03m    dtype: float64\u001b[39;00m\n\u001b[1;32m   4916\u001b[0m \u001b[38;5;124;03m    \"\"\"\u001b[39;00m\n\u001b[1;32m   4917\u001b[0m     \u001b[38;5;28;01mreturn\u001b[39;00m \u001b[43mSeriesApply\u001b[49m\u001b[43m(\u001b[49m\n\u001b[1;32m   4918\u001b[0m \u001b[43m        \u001b[49m\u001b[38;5;28;43mself\u001b[39;49m\u001b[43m,\u001b[49m\n\u001b[1;32m   4919\u001b[0m \u001b[43m        \u001b[49m\u001b[43mfunc\u001b[49m\u001b[43m,\u001b[49m\n\u001b[1;32m   4920\u001b[0m \u001b[43m        \u001b[49m\u001b[43mconvert_dtype\u001b[49m\u001b[38;5;241;43m=\u001b[39;49m\u001b[43mconvert_dtype\u001b[49m\u001b[43m,\u001b[49m\n\u001b[1;32m   4921\u001b[0m \u001b[43m        \u001b[49m\u001b[43mby_row\u001b[49m\u001b[38;5;241;43m=\u001b[39;49m\u001b[43mby_row\u001b[49m\u001b[43m,\u001b[49m\n\u001b[1;32m   4922\u001b[0m \u001b[43m        \u001b[49m\u001b[43margs\u001b[49m\u001b[38;5;241;43m=\u001b[39;49m\u001b[43margs\u001b[49m\u001b[43m,\u001b[49m\n\u001b[1;32m   4923\u001b[0m \u001b[43m        \u001b[49m\u001b[43mkwargs\u001b[49m\u001b[38;5;241;43m=\u001b[39;49m\u001b[43mkwargs\u001b[49m\u001b[43m,\u001b[49m\n\u001b[0;32m-> 4924\u001b[0m \u001b[43m    \u001b[49m\u001b[43m)\u001b[49m\u001b[38;5;241;43m.\u001b[39;49m\u001b[43mapply\u001b[49m\u001b[43m(\u001b[49m\u001b[43m)\u001b[49m\n",
      "File \u001b[0;32m~/Github/Insper/7 Semestre/nlp_course/env/lib/python3.10/site-packages/pandas/core/apply.py:1427\u001b[0m, in \u001b[0;36mSeriesApply.apply\u001b[0;34m(self)\u001b[0m\n\u001b[1;32m   1424\u001b[0m     \u001b[38;5;28;01mreturn\u001b[39;00m \u001b[38;5;28mself\u001b[39m\u001b[38;5;241m.\u001b[39mapply_compat()\n\u001b[1;32m   1426\u001b[0m \u001b[38;5;66;03m# self.func is Callable\u001b[39;00m\n\u001b[0;32m-> 1427\u001b[0m \u001b[38;5;28;01mreturn\u001b[39;00m \u001b[38;5;28;43mself\u001b[39;49m\u001b[38;5;241;43m.\u001b[39;49m\u001b[43mapply_standard\u001b[49m\u001b[43m(\u001b[49m\u001b[43m)\u001b[49m\n",
      "File \u001b[0;32m~/Github/Insper/7 Semestre/nlp_course/env/lib/python3.10/site-packages/pandas/core/apply.py:1507\u001b[0m, in \u001b[0;36mSeriesApply.apply_standard\u001b[0;34m(self)\u001b[0m\n\u001b[1;32m   1501\u001b[0m \u001b[38;5;66;03m# row-wise access\u001b[39;00m\n\u001b[1;32m   1502\u001b[0m \u001b[38;5;66;03m# apply doesn't have a `na_action` keyword and for backward compat reasons\u001b[39;00m\n\u001b[1;32m   1503\u001b[0m \u001b[38;5;66;03m# we need to give `na_action=\"ignore\"` for categorical data.\u001b[39;00m\n\u001b[1;32m   1504\u001b[0m \u001b[38;5;66;03m# TODO: remove the `na_action=\"ignore\"` when that default has been changed in\u001b[39;00m\n\u001b[1;32m   1505\u001b[0m \u001b[38;5;66;03m#  Categorical (GH51645).\u001b[39;00m\n\u001b[1;32m   1506\u001b[0m action \u001b[38;5;241m=\u001b[39m \u001b[38;5;124m\"\u001b[39m\u001b[38;5;124mignore\u001b[39m\u001b[38;5;124m\"\u001b[39m \u001b[38;5;28;01mif\u001b[39;00m \u001b[38;5;28misinstance\u001b[39m(obj\u001b[38;5;241m.\u001b[39mdtype, CategoricalDtype) \u001b[38;5;28;01melse\u001b[39;00m \u001b[38;5;28;01mNone\u001b[39;00m\n\u001b[0;32m-> 1507\u001b[0m mapped \u001b[38;5;241m=\u001b[39m \u001b[43mobj\u001b[49m\u001b[38;5;241;43m.\u001b[39;49m\u001b[43m_map_values\u001b[49m\u001b[43m(\u001b[49m\n\u001b[1;32m   1508\u001b[0m \u001b[43m    \u001b[49m\u001b[43mmapper\u001b[49m\u001b[38;5;241;43m=\u001b[39;49m\u001b[43mcurried\u001b[49m\u001b[43m,\u001b[49m\u001b[43m \u001b[49m\u001b[43mna_action\u001b[49m\u001b[38;5;241;43m=\u001b[39;49m\u001b[43maction\u001b[49m\u001b[43m,\u001b[49m\u001b[43m \u001b[49m\u001b[43mconvert\u001b[49m\u001b[38;5;241;43m=\u001b[39;49m\u001b[38;5;28;43mself\u001b[39;49m\u001b[38;5;241;43m.\u001b[39;49m\u001b[43mconvert_dtype\u001b[49m\n\u001b[1;32m   1509\u001b[0m \u001b[43m\u001b[49m\u001b[43m)\u001b[49m\n\u001b[1;32m   1511\u001b[0m \u001b[38;5;28;01mif\u001b[39;00m \u001b[38;5;28mlen\u001b[39m(mapped) \u001b[38;5;129;01mand\u001b[39;00m \u001b[38;5;28misinstance\u001b[39m(mapped[\u001b[38;5;241m0\u001b[39m], ABCSeries):\n\u001b[1;32m   1512\u001b[0m     \u001b[38;5;66;03m# GH#43986 Need to do list(mapped) in order to get treated as nested\u001b[39;00m\n\u001b[1;32m   1513\u001b[0m     \u001b[38;5;66;03m#  See also GH#25959 regarding EA support\u001b[39;00m\n\u001b[1;32m   1514\u001b[0m     \u001b[38;5;28;01mreturn\u001b[39;00m obj\u001b[38;5;241m.\u001b[39m_constructor_expanddim(\u001b[38;5;28mlist\u001b[39m(mapped), index\u001b[38;5;241m=\u001b[39mobj\u001b[38;5;241m.\u001b[39mindex)\n",
      "File \u001b[0;32m~/Github/Insper/7 Semestre/nlp_course/env/lib/python3.10/site-packages/pandas/core/base.py:921\u001b[0m, in \u001b[0;36mIndexOpsMixin._map_values\u001b[0;34m(self, mapper, na_action, convert)\u001b[0m\n\u001b[1;32m    918\u001b[0m \u001b[38;5;28;01mif\u001b[39;00m \u001b[38;5;28misinstance\u001b[39m(arr, ExtensionArray):\n\u001b[1;32m    919\u001b[0m     \u001b[38;5;28;01mreturn\u001b[39;00m arr\u001b[38;5;241m.\u001b[39mmap(mapper, na_action\u001b[38;5;241m=\u001b[39mna_action)\n\u001b[0;32m--> 921\u001b[0m \u001b[38;5;28;01mreturn\u001b[39;00m \u001b[43malgorithms\u001b[49m\u001b[38;5;241;43m.\u001b[39;49m\u001b[43mmap_array\u001b[49m\u001b[43m(\u001b[49m\u001b[43marr\u001b[49m\u001b[43m,\u001b[49m\u001b[43m \u001b[49m\u001b[43mmapper\u001b[49m\u001b[43m,\u001b[49m\u001b[43m \u001b[49m\u001b[43mna_action\u001b[49m\u001b[38;5;241;43m=\u001b[39;49m\u001b[43mna_action\u001b[49m\u001b[43m,\u001b[49m\u001b[43m \u001b[49m\u001b[43mconvert\u001b[49m\u001b[38;5;241;43m=\u001b[39;49m\u001b[43mconvert\u001b[49m\u001b[43m)\u001b[49m\n",
      "File \u001b[0;32m~/Github/Insper/7 Semestre/nlp_course/env/lib/python3.10/site-packages/pandas/core/algorithms.py:1743\u001b[0m, in \u001b[0;36mmap_array\u001b[0;34m(arr, mapper, na_action, convert)\u001b[0m\n\u001b[1;32m   1741\u001b[0m values \u001b[38;5;241m=\u001b[39m arr\u001b[38;5;241m.\u001b[39mastype(\u001b[38;5;28mobject\u001b[39m, copy\u001b[38;5;241m=\u001b[39m\u001b[38;5;28;01mFalse\u001b[39;00m)\n\u001b[1;32m   1742\u001b[0m \u001b[38;5;28;01mif\u001b[39;00m na_action \u001b[38;5;129;01mis\u001b[39;00m \u001b[38;5;28;01mNone\u001b[39;00m:\n\u001b[0;32m-> 1743\u001b[0m     \u001b[38;5;28;01mreturn\u001b[39;00m \u001b[43mlib\u001b[49m\u001b[38;5;241;43m.\u001b[39;49m\u001b[43mmap_infer\u001b[49m\u001b[43m(\u001b[49m\u001b[43mvalues\u001b[49m\u001b[43m,\u001b[49m\u001b[43m \u001b[49m\u001b[43mmapper\u001b[49m\u001b[43m,\u001b[49m\u001b[43m \u001b[49m\u001b[43mconvert\u001b[49m\u001b[38;5;241;43m=\u001b[39;49m\u001b[43mconvert\u001b[49m\u001b[43m)\u001b[49m\n\u001b[1;32m   1744\u001b[0m \u001b[38;5;28;01melse\u001b[39;00m:\n\u001b[1;32m   1745\u001b[0m     \u001b[38;5;28;01mreturn\u001b[39;00m lib\u001b[38;5;241m.\u001b[39mmap_infer_mask(\n\u001b[1;32m   1746\u001b[0m         values, mapper, mask\u001b[38;5;241m=\u001b[39misna(values)\u001b[38;5;241m.\u001b[39mview(np\u001b[38;5;241m.\u001b[39muint8), convert\u001b[38;5;241m=\u001b[39mconvert\n\u001b[1;32m   1747\u001b[0m     )\n",
      "File \u001b[0;32mlib.pyx:2972\u001b[0m, in \u001b[0;36mpandas._libs.lib.map_infer\u001b[0;34m()\u001b[0m\n",
      "Cell \u001b[0;32mIn[56], line 1\u001b[0m, in \u001b[0;36m<lambda>\u001b[0;34m(x)\u001b[0m\n\u001b[0;32m----> 1\u001b[0m df_stemming \u001b[38;5;241m=\u001b[39m df[\u001b[38;5;124m'\u001b[39m\u001b[38;5;124mdescription\u001b[39m\u001b[38;5;124m'\u001b[39m]\u001b[38;5;241m.\u001b[39mapply(\u001b[38;5;28;01mlambda\u001b[39;00m x: \u001b[38;5;124m'\u001b[39m\u001b[38;5;124m \u001b[39m\u001b[38;5;124m'\u001b[39m\u001b[38;5;241m.\u001b[39mjoin([stemming_word(word) \u001b[38;5;28;01mfor\u001b[39;00m word \u001b[38;5;129;01min\u001b[39;00m x]))\n\u001b[1;32m      2\u001b[0m df_lemming \u001b[38;5;241m=\u001b[39m df[\u001b[38;5;124m'\u001b[39m\u001b[38;5;124mdescription\u001b[39m\u001b[38;5;124m'\u001b[39m]\u001b[38;5;241m.\u001b[39mapply(\u001b[38;5;28;01mlambda\u001b[39;00m x: \u001b[38;5;124m'\u001b[39m\u001b[38;5;124m \u001b[39m\u001b[38;5;124m'\u001b[39m\u001b[38;5;241m.\u001b[39mjoin([lemmatizing_word(word) \u001b[38;5;28;01mfor\u001b[39;00m word \u001b[38;5;129;01min\u001b[39;00m x]))\n\u001b[1;32m      4\u001b[0m df_lemming\u001b[38;5;241m.\u001b[39mhead()\n",
      "Cell \u001b[0;32mIn[56], line 1\u001b[0m, in \u001b[0;36m<listcomp>\u001b[0;34m(.0)\u001b[0m\n\u001b[0;32m----> 1\u001b[0m df_stemming \u001b[38;5;241m=\u001b[39m df[\u001b[38;5;124m'\u001b[39m\u001b[38;5;124mdescription\u001b[39m\u001b[38;5;124m'\u001b[39m]\u001b[38;5;241m.\u001b[39mapply(\u001b[38;5;28;01mlambda\u001b[39;00m x: \u001b[38;5;124m'\u001b[39m\u001b[38;5;124m \u001b[39m\u001b[38;5;124m'\u001b[39m\u001b[38;5;241m.\u001b[39mjoin([\u001b[43mstemming_word\u001b[49m\u001b[43m(\u001b[49m\u001b[43mword\u001b[49m\u001b[43m)\u001b[49m \u001b[38;5;28;01mfor\u001b[39;00m word \u001b[38;5;129;01min\u001b[39;00m x]))\n\u001b[1;32m      2\u001b[0m df_lemming \u001b[38;5;241m=\u001b[39m df[\u001b[38;5;124m'\u001b[39m\u001b[38;5;124mdescription\u001b[39m\u001b[38;5;124m'\u001b[39m]\u001b[38;5;241m.\u001b[39mapply(\u001b[38;5;28;01mlambda\u001b[39;00m x: \u001b[38;5;124m'\u001b[39m\u001b[38;5;124m \u001b[39m\u001b[38;5;124m'\u001b[39m\u001b[38;5;241m.\u001b[39mjoin([lemmatizing_word(word) \u001b[38;5;28;01mfor\u001b[39;00m word \u001b[38;5;129;01min\u001b[39;00m x]))\n\u001b[1;32m      4\u001b[0m df_lemming\u001b[38;5;241m.\u001b[39mhead()\n",
      "Cell \u001b[0;32mIn[54], line 3\u001b[0m, in \u001b[0;36mstemming_word\u001b[0;34m(word)\u001b[0m\n\u001b[1;32m      2\u001b[0m \u001b[38;5;28;01mdef\u001b[39;00m\u001b[38;5;250m \u001b[39m\u001b[38;5;21mstemming_word\u001b[39m(word):\n\u001b[0;32m----> 3\u001b[0m     \u001b[38;5;28;01mreturn\u001b[39;00m \u001b[43mstemmed\u001b[49m\u001b[38;5;241;43m.\u001b[39;49m\u001b[43mstem\u001b[49m\u001b[43m(\u001b[49m\u001b[43mre\u001b[49m\u001b[38;5;241;43m.\u001b[39;49m\u001b[43mfindall\u001b[49m\u001b[43m(\u001b[49m\u001b[38;5;124;43mr\u001b[39;49m\u001b[38;5;124;43m'\u001b[39;49m\u001b[38;5;124;43m\\\u001b[39;49m\u001b[38;5;124;43mw+\u001b[39;49m\u001b[38;5;124;43m'\u001b[39;49m\u001b[43m,\u001b[49m\u001b[43m \u001b[49m\u001b[43mword\u001b[49m\u001b[43m)\u001b[49m\u001b[43m)\u001b[49m\n",
      "File \u001b[0;32m~/Github/Insper/7 Semestre/nlp_course/env/lib/python3.10/site-packages/nltk/stem/porter.py:660\u001b[0m, in \u001b[0;36mPorterStemmer.stem\u001b[0;34m(self, word, to_lowercase)\u001b[0m\n\u001b[1;32m    656\u001b[0m \u001b[38;5;28;01mdef\u001b[39;00m\u001b[38;5;250m \u001b[39m\u001b[38;5;21mstem\u001b[39m(\u001b[38;5;28mself\u001b[39m, word, to_lowercase\u001b[38;5;241m=\u001b[39m\u001b[38;5;28;01mTrue\u001b[39;00m):\n\u001b[1;32m    657\u001b[0m \u001b[38;5;250m    \u001b[39m\u001b[38;5;124;03m\"\"\"\u001b[39;00m\n\u001b[1;32m    658\u001b[0m \u001b[38;5;124;03m    :param to_lowercase: if `to_lowercase=True` the word always lowercase\u001b[39;00m\n\u001b[1;32m    659\u001b[0m \u001b[38;5;124;03m    \"\"\"\u001b[39;00m\n\u001b[0;32m--> 660\u001b[0m     stem \u001b[38;5;241m=\u001b[39m \u001b[43mword\u001b[49m\u001b[38;5;241;43m.\u001b[39;49m\u001b[43mlower\u001b[49m() \u001b[38;5;28;01mif\u001b[39;00m to_lowercase \u001b[38;5;28;01melse\u001b[39;00m word\n\u001b[1;32m    662\u001b[0m     \u001b[38;5;28;01mif\u001b[39;00m \u001b[38;5;28mself\u001b[39m\u001b[38;5;241m.\u001b[39mmode \u001b[38;5;241m==\u001b[39m \u001b[38;5;28mself\u001b[39m\u001b[38;5;241m.\u001b[39mNLTK_EXTENSIONS \u001b[38;5;129;01mand\u001b[39;00m word \u001b[38;5;129;01min\u001b[39;00m \u001b[38;5;28mself\u001b[39m\u001b[38;5;241m.\u001b[39mpool:\n\u001b[1;32m    663\u001b[0m         \u001b[38;5;28;01mreturn\u001b[39;00m \u001b[38;5;28mself\u001b[39m\u001b[38;5;241m.\u001b[39mpool[stem]\n",
      "\u001b[0;31mAttributeError\u001b[0m: 'list' object has no attribute 'lower'"
     ]
    }
   ],
   "source": [
    "df_stemming = df['description'].apply(lambda x: ' '.join([stemming_word(word) for word in x]))\n",
    "df_lemming = df['description'].apply(lambda x: ' '.join([lemmatizing_word(word) for word in x]))\n",
    "\n",
    "df_lemming.head()"
   ]
  },
  {
   "cell_type": "code",
   "execution_count": 50,
   "metadata": {},
   "outputs": [
    {
     "data": {
      "image/png": "[encoded data removed]",
      "text/plain": [
       "<Figure size 1500x200 with 1 Axes>"
      ]
     },
     "metadata": {},
     "output_type": "display_data"
    }
   ],
   "source": [
    "vectorizer_stem = CountVectorizer(binary=True, stop_words='english')\n",
    "X_stem = vectorizer_stem.fit_transform(df_stemming)\n",
    "\n",
    "doc_freq_matrix_stem = X_stem.mean(axis=0)\n",
    "\n",
    "doc_freq_stem = {\n",
    "    word: doc_freq_matrix_stem[0, vectorizer_stem.vocabulary_[word]]\n",
    "    for word in vectorizer_stem.vocabulary_\n",
    "}\n",
    "\n",
    "df_vocabulary_stem = pd.DataFrame(doc_freq_stem.items(), columns=['word', 'frequency'])\n",
    "df_vocabulary_stem = df_vocabulary_stem.sort_values(by='frequency', ascending=False)\n",
    "df_vocabulary_stem.head()\n",
    "plt.figure(figsize=(15,2))\n",
    "plt.bar(df_vocabulary_stem.iloc[0:25]['word'], df_vocabulary_stem[0:25]['frequency'])\n",
    "plt.xticks(rotation=90)\n",
    "plt.show()"
   ]
  },
  {
   "cell_type": "code",
   "execution_count": 52,
   "metadata": {},
   "outputs": [
    {
     "data": {
      "image/png": "[encoded data removed]",
      "text/plain": [
       "<Figure size 1500x200 with 1 Axes>"
      ]
     },
     "metadata": {},
     "output_type": "display_data"
    }
   ],
   "source": [
    "vectorizer_lem = CountVectorizer(binary=True, stop_words='english')\n",
    "X_lem = vectorizer_lem.fit_transform(df_lemming)\n",
    "\n",
    "doc_freq_matrix_lem = X_lem.mean(axis=0)\n",
    "\n",
    "doc_freq_lem = {\n",
    "    word: doc_freq_matrix_lem[0, vectorizer_lem.vocabulary_[word]]\n",
    "    for word in vectorizer_lem.vocabulary_\n",
    "}\n",
    "\n",
    "df_vocabulary_lem = pd.DataFrame(doc_freq_lem.items(), columns=['word', 'frequency'])\n",
    "df_vocabulary_lem = df_vocabulary_lem.sort_values(by='frequency', ascending=False)\n",
    "df_vocabulary_lem.head()\n",
    "plt.figure(figsize=(15,2))\n",
    "plt.bar(df_vocabulary_lem.iloc[0:25]['word'], df_vocabulary_lem[0:25]['frequency'])\n",
    "plt.xticks(rotation=90)\n",
    "plt.show()"
   ]
  },
  {
   "cell_type": "markdown",
   "metadata": {},
   "source": [
    "## Exercise 5: the inverted index\n",
    "\n",
    "You might have figured out by now that searching for words in a large collection is very inneficient. To avoid such searches, many databases implement a data structure called an \"inverted index\".\n",
    "\n",
    "The inverted index is essentially a dictionary whose key is a word from the vocabulary, and whose value is a list (or set) of references to documents that contain that word.\n",
    "\n",
    "As an example, the inverted index below:\n",
    "\n",
    "    {\n",
    "        'brazil' : [0, 1, 2],\n",
    "        'argentina' : [2, 3]\n",
    "    }\n",
    "\n",
    "means that \"brazil\" appears in documents 0, 1, and 2, while \"argentina\" appears in documents 2 and 3.\n",
    "\n",
    "You might want to stem/lemmatize the words before implementing the inverted index.\n",
    "\n",
    "(a) Complete the function below to generate an inverted index for a news dataframe, which will allow searching among news based on keywords. HINT: use `CountVectorizer` to save yourself some time!\n",
    "\n",
    "(b) Use your inverted index to search for news documents that contain \"brazil\" AND \"president\". What does the DF distribution say in this case?\n",
    "\n",
    "(c) Use your inverted index to search for news documents that contain \"brazil\" BUT DO NOT CONTAIN \"football\" or \"soccer\". How is the DF distribution in this case?"
   ]
  },
  {
   "cell_type": "code",
   "execution_count": 44,
   "metadata": {},
   "outputs": [],
   "source": [
    "from typing import Dict\n",
    "\n",
    "def make_inverted_index_from_df(df : pd.DataFrame) -> Dict:\n",
    "    return {}"
   ]
  },
  {
   "cell_type": "markdown",
   "metadata": {},
   "source": [
    "## Exercise 6: Topic modelling\n",
    "\n",
    "Remember that our documents are now represented in a $X \\in \\mathbb{R}^{D \\times V}$ matrix. In this matrix, each word is completely independent from each other. However, we know that some words are more likely to appear together in real texts.\n",
    "\n",
    "These groups of words that appear together are called \"topics\". The act of finding topics is called \"topic modelling\". One of the current state-of-the-art ideas for topic modelling is called [Latent Dirichlet Allocation](https://www.jmlr.org/papers/volume3/blei03a/blei03a.pdf), or LDA.\n",
    "\n",
    "LDA is a fast technique that assumes $X$ contains discrete counts of words in each document, and then calculates an approximation:\n",
    "\n",
    "$$\n",
    "X \\approx B A,\n",
    "$$\n",
    "\n",
    "where $B \\in \\mathbb{R}^{D \\times T}$ and $A \\in \\mathbb{R}^{T \\times V}$, and $T$ is an arbitrarily chosen number of topics. Essentially, $B$ informs how much each document participates in each topic, and $A$ informs how much each word in the vocabulary participates in each topic.\n",
    "\n",
    "The code to use LDA adequately is a bit tricky.\n",
    "\n",
    "Here is one example. Interpret the outputs, and then try to change the number of topics.\n",
    "\n",
    "Which matrix ($B$ or $A$) is represented by `lda_model.components_`?"
   ]
  },
  {
   "cell_type": "code",
   "execution_count": 83,
   "metadata": {},
   "outputs": [
    {
     "name": "stdout",
     "output_type": "stream",
     "text": [
      "Topic 0 (12 documents):\n",
      "president black world brazilian country football people record largest managerial\n",
      "Topic 1 (12 documents):\n",
      "world cup south late beat korea years finals won dominant\n",
      "Topic 2 (15 documents):\n",
      "manchester united antony winger deal sign city brazilian allegations sport\n",
      "Topic 3 (12 documents):\n",
      "cup world quarter croatia watch final victory england neymar forward\n",
      "Topic 4 (15 documents):\n",
      "brazilian butt lift year undergoing webb died alice 33 club\n",
      "Topic 5 (15 documents):\n",
      "world cup says women final football team games role tears\n",
      "Topic 6 (16 documents):\n",
      "election presidential crisis people cost living new amazon state issue\n",
      "Topic 7 (11 documents):\n",
      "brazilian gabriel surfer medina paris imaginations globe striking captured image\n",
      "Topic 8 (19 documents):\n",
      "pele brazilian forward watch cup world group indigenous match goals\n",
      "Topic 9 (11 documents):\n",
      "world cup mcnulty phil largest bbc england richarlison wembley defeat\n"
     ]
    }
   ],
   "source": [
    "from sklearn.feature_extraction.text import CountVectorizer\n",
    "from sklearn.decomposition import LatentDirichletAllocation\n",
    "from sklearn.pipeline import Pipeline\n",
    "\n",
    "pipeline = Pipeline([\n",
    "    ('vectorizer', CountVectorizer(\n",
    "        stop_words='english',\n",
    "        max_df=0.7,\n",
    "        min_df=2,\n",
    "    )),\n",
    "    ('lda',\n",
    "     LatentDirichletAllocation(\n",
    "         n_components=10,\n",
    "         max_iter=300,\n",
    "         random_state=42,\n",
    "     )),\n",
    "])\n",
    "\n",
    "pipeline.fit(df_filt['description'])\n",
    "\n",
    "lda_output = pipeline.transform(df_filt['description'])\n",
    "lda_model = pipeline.named_steps['lda']\n",
    "feature_names = pipeline.named_steps['vectorizer'].get_feature_names_out()\n",
    "\n",
    "# Print the most prominent words in each topic\n",
    "# Print the number of documents whose most prominent topic is this one\n",
    "most_prominent_topic = lda_output.argmax(axis=1)\n",
    "for topic_idx, topic in enumerate(lda_model.components_):\n",
    "    num_documents = (most_prominent_topic == topic_idx).sum()\n",
    "    print(f\"Topic {topic_idx} ({num_documents} documents):\")\n",
    "    print(\" \".join([feature_names[i] for i in topic.argsort()[:-11:-1]]))"
   ]
  },
  {
   "cell_type": "markdown",
   "metadata": {},
   "source": [
    "## Exercise 7: a solution with LLMs\n",
    "\n",
    "So far, we have learned how to use classic NLP techniques to get a gist of the news. However, large language models (LLMs) seem to be the new state of the art for such. \n",
    "\n",
    "Well, we would like a summary of all news related to Brazil. Our classical methods are highly biased by the fact that most news are about football - let's see what LLMs can do for us here!\n",
    "\n",
    "For such, we will use Google Gemni, which has a great free tier that is just enough for our learning purposes. Go to https://aistudio.google.com/ and get yourself an API key. Then, add the key to the `.env` file in your system.\n",
    "\n",
    "Check how prompting works - it is essentially like using ChatGPT.\n",
    "\n",
    "1. Can you control the prompts so that summaries are more verbose or less verbose?\n",
    "1. What happens if you don't provide the model with the news you want a summary of - maybe changing the prompt to \"give me a summary of news in Brazil from 2022 to 2024\"?\n",
    "1. What happens if you ask a direct question?\n",
    "1. How does these summaries compare with the topics generated by LDA?"
   ]
  },
  {
   "cell_type": "code",
   "execution_count": 59,
   "metadata": {},
   "outputs": [
    {
     "name": "stdout",
     "output_type": "stream",
     "text": [
      "These news items cover a wide range of topics related to Brazil, including:\n",
      "\n",
      "**Politics and Society:**\n",
      "\n",
      "* **Presidential Elections:**  The 2022 Brazilian presidential election was a major focus, with coverage of candidates' campaigns, the election results (Lula's victory),  voter anxieties, and the subsequent storming of the Congress by Bolsonaro supporters.  The influence of Evangelical Christians, particularly women of color, in the election is highlighted.  The US's keen interest in the outcome is also noted.\n",
      "* **Social Issues:**  Brazil's racial inequality is addressed, showing the underrepresentation of Black people in managerial positions.  The cost of living crisis and its impact on the population, including extreme measures taken by some to survive, are discussed.  The hunger crisis and community responses are also mentioned.  The ongoing debate surrounding abortion is noted.\n",
      "* **Amazon Rainforest:** The future of the Amazon rainforest is tied to the presidential election results, underscoring its importance.\n",
      "* **Indigenous Peoples:**  The tragic disappearance and murder of journalist Dom Phillips in the Amazon, along with the plight of an uncontacted indigenous group, are reported.\n",
      "\n",
      "\n",
      "**Sports:**\n",
      "\n",
      "* **Football:**  Numerous articles cover the Brazilian national football team, including their World Cup 2022 performance (reaching the quarter-finals before being eliminated by Croatia),  individual player performances (Neymar, Richarlison, Casemiro, Antony), and the passing of football legend Pelé.  Transfer news involving Brazilian players moving to European clubs is also included. The women's national team's performance in the World Cup is covered, as is a friendly match against England.\n",
      "* **Other Sports:**  News about Brazilian athletes in other sports such as surfing (Gabriel Medina) and judo is also present.\n",
      "\n",
      "\n",
      "**Other News:**\n",
      "\n",
      "* **Carnival:** The return of Rio's Carnival after the pandemic is noted.\n",
      "* **Crime:**  Incidents such as armed robbery, murder, and prison escapes are reported.\n",
      "* **Health:** The risks associated with Brazilian butt lift surgery are highlighted, along with the death of a woman undergoing the procedure.  Pele's health and passing are extensively covered.  Neymar's injury is also reported.\n",
      "* **International Relations:**  Brazil's relationship with other countries, including the US, Israel, and the countries sharing the Amazon basin, is touched upon.\n",
      "* **Economy:**  The use of technology in coffee production and the impact of the global cost of living crisis on Brazil are mentioned.\n",
      "\n",
      "\n",
      "In short, the news items provide a multifaceted view of Brazil, encompassing its political climate, social issues, sporting achievements, and significant events.\n",
      "\n"
     ]
    }
   ],
   "source": [
    "import os\n",
    "from dotenv import load_dotenv\n",
    "import google.generativeai as genai\n",
    "load_dotenv()\n",
    "GEMINI_API_KEY = os.getenv('GEMINI_API_KEY')\n",
    "#GEMINI_API_KEY = # Go to https://aistudio.google.com/ to get a key. DO NOT commit your key to the repository!\n",
    "\n",
    "# Start the use of the API\n",
    "genai.configure(api_key=GEMINI_API_KEY)\n",
    "model = genai.GenerativeModel(model_name=\"gemini-1.5-flash\")\n",
    "\n",
    "# Make our prompt here\n",
    "news = '\\n\\nAnother news '.join(list(df_filt['description']))\n",
    "prompt = f\"I have these pieces of news: {news}. Can you summarize them for me?\"\n",
    "\n",
    "# Use our prompt\n",
    "response = model.generate_content(prompt)\n",
    "\n",
    "# Print our response\n",
    "print(response.text)"
   ]
  },
  {
   "cell_type": "markdown",
   "metadata": {},
   "source": [
    "## Exercise 8: combining everything\n",
    "\n",
    "In general, the more we provide LLMs with specific information in the prompt, the better is its output (also, using less data can decrease our cloud costs...). Based on the code above, make a proof-of-concept code (probably within this notebook?) that first uses LDA to roughly identify topics, and then uses the LLM to make a summary of documents within a topic chosen by the user.\n"
   ]
  },
  {
   "cell_type": "code",
   "execution_count": 90,
   "metadata": {},
   "outputs": [
    {
     "data": {
      "text/plain": [
       "2154     Brazil's famous Carnival returned this year fo...\n",
       "2195     Brazil's famous Carnival returned this year fo...\n",
       "10477    The Brazilian president-elect attracts huge em...\n",
       "17706    The aircraft is reported to have links to a Br...\n",
       "19354    Brazilian winger Willian rejoins Fulham and si...\n",
       "20047    Brazil midfielder Fabinho completes a move to ...\n",
       "22222    A so-called Brazilian butt-lift is the fastest...\n",
       "25262    The US pop star says she is putting safety fir...\n",
       "25331    The US pop star says she is putting safety fir...\n",
       "31398    Brazilian workers face degrading conditions to...\n",
       "38796    British judoka Dan Powell takes -90kg J1 silve...\n",
       "39456    Alice Webb, 33, died on Tuesday morning after ...\n",
       "39506    Mother-of-five Alice Webb, 33, died after repo...\n",
       "40944    The Brazilian was shot when he was wrongly sus...\n",
       "41135    The family of Alice Webb, 33, gather to rememb...\n",
       "Name: description, dtype: object"
      ]
     },
     "execution_count": 90,
     "metadata": {},
     "output_type": "execute_result"
    }
   ],
   "source": [
    "filter_topic = most_prominent_topic == 4\n",
    "df_topic = df_filt[filter_topic]\n",
    "len(df_topic)\n",
    "\n",
    "df_topic['description']"
   ]
  },
  {
   "cell_type": "code",
   "execution_count": 91,
   "metadata": {},
   "outputs": [
    {
     "name": "stdout",
     "output_type": "stream",
     "text": [
      "# Brazil-Related News Summary\n",
      "\n",
      "This collection of news items covers a range of topics related to Brazil:\n",
      "\n",
      "**Culture & Events:**\n",
      "\n",
      "* **Carnival's Return:** Brazil's Carnival celebrated its return after a Covid-19 hiatus.\n",
      "\n",
      "**Politics & Society:**\n",
      "\n",
      "* **President-Elect at COP27:** Brazil's president-elect drew large crowds at COP27 but faces domestic opposition.\n",
      "* **Evangelical Church Link:** An aircraft is reportedly linked to a Brazilian evangelical church branch.\n",
      "* **Worker Exploitation:** Brazilian workers endure harsh conditions harvesting palm wax used in various products.\n",
      "\n",
      "**Sports:**\n",
      "\n",
      "* **Willian's Fulham Return:** Brazilian winger Willian rejoined Fulham on a one-year contract.\n",
      "* **Fabinho's Saudi Move:** Brazilian midfielder Fabinho transferred to Saudi Arabian club Al-Ittihad.\n",
      "* **Judo Competition:** British judoka Dan Powell won silver, losing to a Brazilian competitor.\n",
      "\n",
      "**Health & Safety:**\n",
      "\n",
      "* **Brazilian Butt Lift Risks:**  The Brazilian butt lift is the fastest-growing cosmetic surgery, despite significant risks.  Two separate news items report the death of Alice Webb, 33, following this procedure.  Her family is also mentioned in a separate report.\n",
      "* **Extreme Heat:** A US pop star prioritized safety due to extreme heat in a Brazilian city.\n",
      "\n",
      "**Other:**\n",
      "\n",
      "* **Terrorism Misidentification:** A Brazilian man was wrongly suspected of being a terrorist and shot after the 7/7 London bombings.\n",
      "\n",
      "\n",
      "This summary groups the news items thematically for better understanding.  The repeated reporting on Alice Webb's death highlights the dangers associated with the Brazilian butt lift procedure.\n",
      "\n"
     ]
    }
   ],
   "source": [
    "news = '\\n\\nAnother news '.join(list(df_topic['description']))\n",
    "prompt = f\"I have these pieces of news: {news}. Can you summarize them for me?. Response in markdown format.\"\n",
    "\n",
    "# Use our prompt\n",
    "response = model.generate_content(prompt)\n",
    "\n",
    "# Print our response\n",
    "print(response.text)"
   ]
  }
 ],
 "metadata": {
  "kernelspec": {
   "display_name": "env",
   "language": "python",
   "name": "python3"
  },
  "language_info": {
   "codemirror_mode": {
    "name": "ipython",
    "version": 3
   },
   "file_extension": ".py",
   "mimetype": "text/x-python",
   "name": "python",
   "nbconvert_exporter": "python",
   "pygments_lexer": "ipython3",
   "version": "3.10.10"
  }
 },
 "nbformat": 4,
 "nbformat_minor": 2
}
