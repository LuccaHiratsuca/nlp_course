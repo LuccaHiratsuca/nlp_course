{
 "cells": [
  {
   "cell_type": "markdown",
   "metadata": {},
   "source": [
    "# Part-of-Speech Tagging\n",
    "\n",
    "Part-of-speech tagging is the task of identifying the grammatical classes of words in a sentence. In this class, we will use the concept of n-grams to help us automatically identify grammatical classes.\n",
    "\n",
    "## Exercise 1\n",
    "\n",
    "In the sentences below, identify the *nouns*, *verbs*, *adjectives*, and *adverbs*:\n",
    "\n",
    "1. Today I woke up serenely and saw that it was a beautiful and calm day.\n",
    "1. The mutation of fungi is capable of controlling people's minds!\n",
    "1. Every day, the morning Sun comes and challenges us!\n",
    "1. It is no use trying to make an automatic system that does something we do not understand the result of!\n",
    "\n",
    "## Exercise 2\n",
    "\n",
    "There are many words that always have the same PoS definition - maybe the word Sun, for example, is always a noun. However, there are others that can change their meaning according to the context, such as \"house\": \"I live in a house\" (noun), versus \"I like house music\" (adjective), versus \"The museums house a collection of ancient artifacts\" (verb).\n",
    "\n",
    "Because of that, it is important to use context to determine the\n",
    "\n",
    "Recall that our language model context model was:\n",
    "\n",
    "$$\n",
    "𝑃(𝑤_𝑛∣𝑤_{𝑛−1}, w_{n-2}, \\cdots, w_{n-L})\n",
    "$$\n",
    "\n",
    "Now, we can make a small change and use:\n",
    "\n",
    "$$\n",
    "𝑃(\\text{tag}∣w_n, 𝑤_{𝑛−1}, w_{n-2}, \\cdots, w_{n-L})\n",
    "$$\n",
    "\n",
    "Similarly to the language models, we can use a fallback n-gram strategy to make a reasonable model. But, first, we will need to download a corpus:"
   ]
  },
  {
   "cell_type": "code",
   "execution_count": 2,
   "metadata": {},
   "outputs": [
    {
     "name": "stderr",
     "output_type": "stream",
     "text": [
      "[nltk_data] Downloading package brown to /home/tiago/nltk_data...\n",
      "[nltk_data]   Package brown is already up-to-date!\n"
     ]
    }
   ],
   "source": [
    "import nltk\n",
    "nltk.download('brown')\n",
    "from nltk.corpus import brown"
   ]
  },
  {
   "cell_type": "markdown",
   "metadata": {},
   "source": [
    "A corpus is a collection of texts. The [Brown corpus](https://en.wikipedia.org/wiki/Brown_Corpus) has many phrases, with categories and word-level tags for part-of-speech. This was done manually by a team of brave taggers. Here are some highlights on how to use the [Brown corpus in NLTK](https://www.nltk.org/book/ch02.html):"
   ]
  },
  {
   "cell_type": "code",
   "execution_count": 14,
   "metadata": {},
   "outputs": [
    {
     "data": {
      "text/plain": [
       "['adventure',\n",
       " 'belles_lettres',\n",
       " 'editorial',\n",
       " 'fiction',\n",
       " 'government',\n",
       " 'hobbies',\n",
       " 'humor',\n",
       " 'learned',\n",
       " 'lore',\n",
       " 'mystery',\n",
       " 'news',\n",
       " 'religion',\n",
       " 'reviews',\n",
       " 'romance',\n",
       " 'science_fiction']"
      ]
     },
     "execution_count": 14,
     "metadata": {},
     "output_type": "execute_result"
    }
   ],
   "source": [
    "# This is a list of categories in the Brown corpus\n",
    "brown.categories()"
   ]
  },
  {
   "cell_type": "code",
   "execution_count": 12,
   "metadata": {},
   "outputs": [
    {
     "data": {
      "text/plain": [
       "[['Too', 'often', 'a', 'beginning', 'bodybuilder', 'has', 'to', 'do', 'his', 'training', 'secretly', 'either', 'because', 'his', 'parents', \"don't\", 'want', 'sonny-boy', 'to', '``', 'lift', 'all', 'those', 'old', 'barbell', 'things', \"''\", 'because', '``', \"you'll\", 'stunt', 'your', 'growth', \"''\", 'or', 'because', 'childish', 'taunts', 'from', 'his', 'schoolmates', ',', 'like', '``', 'Hey', 'lookit', 'Mr.', 'America', ';', ';'], ['whaddya', 'gonna', 'do', 'with', 'all', 'those', 'muscles', '(', 'of', 'which', 'he', 'has', 'none', 'at', 'the', 'time', ')', \"''\", '?', '?'], ...]"
      ]
     },
     "execution_count": 12,
     "metadata": {},
     "output_type": "execute_result"
    }
   ],
   "source": [
    "# This is a list of sentences in a category:\n",
    "brown.sents(categories='hobbies')\n",
    "# Each sentence is a list of words"
   ]
  },
  {
   "cell_type": "code",
   "execution_count": 15,
   "metadata": {},
   "outputs": [
    {
     "data": {
      "text/plain": [
       "[[('Too', 'QL'), ('often', 'RB'), ('a', 'AT'), ('beginning', 'VBG'), ('bodybuilder', 'NN'), ('has', 'HVZ'), ('to', 'TO'), ('do', 'DO'), ('his', 'PP$'), ('training', 'NN'), ('secretly', 'RB'), ('either', 'CC'), ('because', 'CS'), ('his', 'PP$'), ('parents', 'NNS'), (\"don't\", 'DO*'), ('want', 'VB'), ('sonny-boy', 'NN'), ('to', 'TO'), ('``', '``'), ('lift', 'VB'), ('all', 'ABN'), ('those', 'DTS'), ('old', 'JJ'), ('barbell', 'NN'), ('things', 'NNS'), (\"''\", \"''\"), ('because', 'CS'), ('``', '``'), (\"you'll\", 'PPSS+MD'), ('stunt', 'VB'), ('your', 'PP$'), ('growth', 'NN'), (\"''\", \"''\"), ('or', 'CC'), ('because', 'CS'), ('childish', 'JJ'), ('taunts', 'NNS'), ('from', 'IN'), ('his', 'PP$'), ('schoolmates', 'NNS'), (',', ','), ('like', 'CS'), ('``', '``'), ('Hey', 'UH'), ('lookit', 'VB+IN'), ('Mr.', 'NP'), ('America', 'NP'), (';', '.'), (';', '.')], [('whaddya', 'WDT+BER+PP'), ('gonna', 'VBG+TO'), ('do', 'DO'), ('with', 'IN'), ('all', 'ABN'), ('those', 'DTS'), ('muscles', 'NNS'), ('(', '('), ('of', 'IN'), ('which', 'WDT'), ('he', 'PPS'), ('has', 'HVZ'), ('none', 'PN'), ('at', 'IN'), ('the', 'AT'), ('time', 'NN'), (')', ')'), (\"''\", \"''\"), ('?', '.'), ('?', '.')], ...]"
      ]
     },
     "execution_count": 15,
     "metadata": {},
     "output_type": "execute_result"
    }
   ],
   "source": [
    "# This is a list of *tagged* sentences in a category:\n",
    "brown.tagged_sents(categories='hobbies')\n",
    "# You can find the meaning of the tags by looking at the Wikipedia article: https://en.wikipedia.org/wiki/Brown_Corpus"
   ]
  },
  {
   "cell_type": "markdown",
   "metadata": {},
   "source": [
    "**TASK**\n",
    "\n",
    "Make code to count the proportion of each tag throughout the corpus. If you finish this too quickly, subdivide your count by category."
   ]
  },
  {
   "cell_type": "code",
   "execution_count": null,
   "metadata": {},
   "outputs": [],
   "source": [
    "    # Solve the exercise here"
   ]
  },
  {
   "cell_type": "code",
   "execution_count": null,
   "metadata": {},
   "outputs": [],
   "source": []
  },
  {
   "cell_type": "markdown",
   "metadata": {},
   "source": [
    "## Exercise 3\n",
    "\n",
    "Suppose we have no idea how to choose a PoS tag for any word. Our best guess is to pick one. For example, in the code below, we tag all words as qualifiers (QL). As we can see from the evaluation process, this is not a very accurate method:"
   ]
  },
  {
   "cell_type": "code",
   "execution_count": null,
   "metadata": {},
   "outputs": [
    {
     "name": "stdout",
     "output_type": "stream",
     "text": [
      "[('Too', 'QL'), ('often', 'QL'), ('a', 'QL'), ('beginning', 'QL'), ('bodybuilder', 'QL'), ('has', 'QL'), ('to', 'QL'), ('do', 'QL'), ('his', 'QL'), ('training', 'QL'), ('secretly', 'QL'), ('either', 'QL'), ('because', 'QL'), ('his', 'QL'), ('parents', 'QL'), (\"don't\", 'QL'), ('want', 'QL'), ('sonny-boy', 'QL'), ('to', 'QL'), ('``', 'QL'), ('lift', 'QL'), ('all', 'QL'), ('those', 'QL'), ('old', 'QL'), ('barbell', 'QL'), ('things', 'QL'), (\"''\", 'QL'), ('because', 'QL'), ('``', 'QL'), (\"you'll\", 'QL'), ('stunt', 'QL'), ('your', 'QL'), ('growth', 'QL'), (\"''\", 'QL'), ('or', 'QL'), ('because', 'QL'), ('childish', 'QL'), ('taunts', 'QL'), ('from', 'QL'), ('his', 'QL'), ('schoolmates', 'QL'), (',', 'QL'), ('like', 'QL'), ('``', 'QL'), ('Hey', 'QL'), ('lookit', 'QL'), ('Mr.', 'QL'), ('America', 'QL'), (';', 'QL'), (';', 'QL')]\n",
      "[('Too', 'QL'), ('often', 'RB'), ('a', 'AT'), ('beginning', 'VBG'), ('bodybuilder', 'NN'), ('has', 'HVZ'), ('to', 'TO'), ('do', 'DO'), ('his', 'PP$'), ('training', 'NN'), ('secretly', 'RB'), ('either', 'CC'), ('because', 'CS'), ('his', 'PP$'), ('parents', 'NNS'), (\"don't\", 'DO*'), ('want', 'VB'), ('sonny-boy', 'NN'), ('to', 'TO'), ('``', '``'), ('lift', 'VB'), ('all', 'ABN'), ('those', 'DTS'), ('old', 'JJ'), ('barbell', 'NN'), ('things', 'NNS'), (\"''\", \"''\"), ('because', 'CS'), ('``', '``'), (\"you'll\", 'PPSS+MD'), ('stunt', 'VB'), ('your', 'PP$'), ('growth', 'NN'), (\"''\", \"''\"), ('or', 'CC'), ('because', 'CS'), ('childish', 'JJ'), ('taunts', 'NNS'), ('from', 'IN'), ('his', 'PP$'), ('schoolmates', 'NNS'), (',', ','), ('like', 'CS'), ('``', '``'), ('Hey', 'UH'), ('lookit', 'VB+IN'), ('Mr.', 'NP'), ('America', 'NP'), (';', '.'), (';', '.')]\n",
      "Accuracy: 0.00752244245568347\n"
     ]
    }
   ],
   "source": [
    "from nltk.tag import DefaultTagger\n",
    "default_tagger = DefaultTagger('QL')\n",
    "sentence = brown.sents(categories='hobbies')[0]\n",
    "sentence_tagged = default_tagger.tag(sentence)\n",
    "sentence_ground_truth = brown.tagged_sents(categories='hobbies')[0]\n",
    "print(sentence_tagged)\n",
    "print(sentence_ground_truth)\n",
    "accuracy = default_tagger.accuracy([sentence_ground_truth])\n",
    "print(f'Accuracy: {accuracy}')"
   ]
  },
  {
   "cell_type": "markdown",
   "metadata": {},
   "source": [
    "1. Change the evaluation process above to calculate accuracy over all the 'editorial' category of the Brown corpus\n",
    "1. Change the default tag to the most common tag you have found in Exercise 2. What is your change in accuracy?"
   ]
  },
  {
   "cell_type": "markdown",
   "metadata": {},
   "source": [
    "## Exercise 4\n",
    "\n",
    "NLTK also comes with Unigram taggers. These taggers use $L=0$ in the context, that is, they always tag a word in the same way.\n",
    "\n",
    "The Unigram taggers requires training data. In the example below, we use the tagged sentences from the \"hobbies\" category for that.\n",
    "\n",
    "Of course, there is a change that the word we want does not appear in the training data. In this case, what is the best alternative? Well, we can choose the most common tag in the dataset - which is what we had been doing with the default tagger. This strategy is called \"backoff\"."
   ]
  },
  {
   "cell_type": "code",
   "execution_count": 29,
   "metadata": {},
   "outputs": [],
   "source": [
    "from nltk.tag import UnigramTagger\n",
    "unigram_tagger = UnigramTagger(brown.tagged_sents(categories='hobbies'), backoff=default_tagger)\n"
   ]
  },
  {
   "cell_type": "markdown",
   "metadata": {},
   "source": [
    "Train the Unigram tagger in the 'hobbies' category. Then, test it in sentences of each category.\n",
    "\n",
    "1. What do you observe in the results?\n",
    "1. Does this phenomenon happen for any category chosen for training?\n",
    "1. Make an experiment to find out if this phenomenon is due to train and test being from the same category, of if it is due to they containing strictly the same sentences."
   ]
  },
  {
   "cell_type": "markdown",
   "metadata": {},
   "source": [
    "## Exercise 5\n",
    "\n",
    "We can also use n-gram taggers:"
   ]
  },
  {
   "cell_type": "code",
   "execution_count": null,
   "metadata": {},
   "outputs": [],
   "source": [
    "from nltk import NgramTagger\n",
    "bigram_tagger = NgramTagger(n=2, train=brown.tagged_sents(categories='hobbies'), backoff=unigram_tagger)"
   ]
  },
  {
   "cell_type": "markdown",
   "metadata": {},
   "source": [
    "1. Evaluate the bigram tagger\n",
    "1. Make a function that receives a value of $n$ and a training set as parameters, and returns a PoS tagger with n-gram taggers for that $n$ with a successive backoff option that\n",
    "1. Make a figure showing how the accuracy increases in the Brown corpus when $n$ is increased."
   ]
  },
  {
   "cell_type": "markdown",
   "metadata": {},
   "source": [
    "## Exercise 6\n",
    "\n",
    "One measure of wordiness in a text is the lexical density. Lexical Density is a concept that comes from the idea that nouns and verbs convey meaning, and other words are only auxiliary. The Lexical Density is calculated for a sentence as the number of nouns and verbs, divided by the total number of words in the sentence.\n",
    "\n",
    "Make a function that receives a sentence (and possibly a PoS tagger) as inputs and returns the sentence's lexical density.\n",
    "\n"
   ]
  },
  {
   "cell_type": "code",
   "execution_count": null,
   "metadata": {},
   "outputs": [],
   "source": []
  },
  {
   "cell_type": "markdown",
   "metadata": {},
   "source": []
  }
 ],
 "metadata": {
  "kernelspec": {
   "display_name": "nlp_course",
   "language": "python",
   "name": "python3"
  },
  "language_info": {
   "codemirror_mode": {
    "name": "ipython",
    "version": 3
   },
   "file_extension": ".py",
   "mimetype": "text/x-python",
   "name": "python",
   "nbconvert_exporter": "python",
   "pygments_lexer": "ipython3",
   "version": "3.12.8"
  }
 },
 "nbformat": 4,
 "nbformat_minor": 2
}
