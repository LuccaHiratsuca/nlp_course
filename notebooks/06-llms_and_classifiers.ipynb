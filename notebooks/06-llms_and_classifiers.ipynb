{
 "cells": [
  {
   "cell_type": "markdown",
   "metadata": {},
   "source": [
    "# TEST 1: Leveraging LLMs for Feature Generation and Classification\n",
    "\n",
    "Typically, if our data has $N$ features, we need around $10N$ data items to reach peak performance with classic classifiers like Logistic Regression. Therefore, if our vocabulary has 10,000 words, we would need around 1 million items in the training set to reach peak performance.\n",
    "\n",
    "An interesting idea regarding this was explored in 2024 in [Balek, V., S'ykora, L., Sklen'ak, V., & Kliegr, T. (2024). LLM-based feature generation from text for interpretable machine learning. ArXiv, abs/2409.07132](https://arxiv.org/abs/2409.07132). The idea is to use an LLM to generate meaningful and interpretable features from text, and then use Logistic Regression for classification.\n",
    "\n",
    "For example, in the movie plots dataset, we could have features like:\n",
    "- \"Is the protagonist an animal?\" (0 or 1)\n",
    "- \"Does the plot indicate psychological suffering?\" (0 or 1)\n",
    "\n",
    "With a reasonable number of these features, our model could make predictions based on meaningful features instead of raw words.\n",
    "\n",
    "## Objectives\n",
    "* Perform feature extraction for a particular dataset\n",
    "* Compare performance and explainability of classifiers with different approaches. \n",
    "\n",
    "## Rules\n",
    "\n",
    "I highlight a few elements of our usual rules:\n",
    "\n",
    "* You are **NOT ALLOWED** to use AI to generate any code you are asked to make yourself. This includes ChatGPT, CoPilot and all similar generators.\n",
    "* You are **NOT ALLOWED** to use Google or any other search engine.\n",
    "* You are **ALLOWED** to use the offical documentations for libraries: \n",
    "    * [sklearn](https://scikit-learn.org/)\n",
    "    * [numpy](https://numpy.org/)\n",
    "    * [matplotlib](https://matplotlib.org/)\n",
    "    * [google AI studio](https://aistudio.google.com/)\n",
    "* You are **ALLOWED** to use previous code from this course as basis.\n",
    "* You **MUST** use the university's proctoring software to show you are complying with these rules\n",
    "* This task is **INDIVIDUAL**. DO NOT share your code or results with anyone else.\n",
    "\n",
    "## Tasks and Deliverables\n",
    "\n",
    "* At any point, refer to [Balek et al.](https://arxiv.org/abs/2409.07132). \n",
    "* Make a well-commented code to solve each one of the tasks below.\n",
    "* Each task will be evaluated as:\n",
    "    * Insufficient: task is not done, off-topic, or low-effort\n",
    "    * In process: task is incomplete, done with a clear conceptual error, or comments \n",
    "    * Proficient: everything works and comments are enough to understand what is being done\n",
    "    * Advanced: everything works, comments are enough to understand what is being done, and code is well organized and formated using functions, dataclasses, and other adequate structures.\n",
    "* This task should be finished by the end of the class.\n",
    "* After you are finished, submit the executed notebook in our LMS system.\n",
    "\n",
    "### 1. Dataset Preparation:\n",
    "Adapting Balek et al.'s strategy to our movie plot classification case, create a dataset with at least 100 labeled items and at least 5 meaningful features. None of the features can be the class itself (\"is this a drama plot?\"). Use a clear strategy to avoid exceeding free tier quotas. Store data locally in a format of your choice.\n",
    "\n",
    "### 2. Classification:\n",
    "Use the generated features to train a Logistic Regression model. Use cross-validation to select the best hyperparameters. Report accuracy and f1-score for your classifier.\n",
    "\n",
    "### 3. Performance Comparison\n",
    "Compare the performance of the following approaches:\n",
    "1. Traditional Bag-of-Words\n",
    "2. LLM-generated features with Logistic Regression\n",
    "3. Direct classification using LLM\n",
    "\n",
    "Use a bar plot to show the performance differences (choose either accuracy or F1-score).\n",
    "\n",
    "### 4. Improvement Strategies\n",
    "Determine whether labeling more items would improve system performance. Use data to justify your answer.\n"
   ]
  },
  {
   "cell_type": "code",
   "execution_count": 31,
   "metadata": {},
   "outputs": [],
   "source": [
    "import pandas as pd\n",
    "import numpy as np\n",
    "import matplotlib.pyplot as plt\n",
    "import seaborn as sns\n",
    "import os\n",
    "from dotenv import load_dotenv\n",
    "import google.generativeai as genai\n",
    "from sklearn.model_selection import train_test_split\n",
    "from sklearn.feature_extraction.text import CountVectorizer, TfidfVectorizer\n",
    "from sklearn.linear_model import LogisticRegression\n",
    "from sklearn.model_selection import cross_val_score"
   ]
  },
  {
   "cell_type": "code",
   "execution_count": 32,
   "metadata": {},
   "outputs": [],
   "source": [
    "load_dotenv()\n",
    "GEMINI_API_KEY = os.getenv('GEMINI_API_KEY')\n",
    "genai.configure(api_key=GEMINI_API_KEY)"
   ]
  },
  {
   "cell_type": "code",
   "execution_count": 33,
   "metadata": {},
   "outputs": [
    {
     "data": {
      "application/vnd.microsoft.datawrangler.viewer.v0+json": {
       "columns": [
        {
         "name": "index",
         "rawType": "int64",
         "type": "integer"
        },
        {
         "name": "Plot",
         "rawType": "object",
         "type": "string"
        },
        {
         "name": "Genre",
         "rawType": "object",
         "type": "string"
        }
       ],
       "conversionMethod": "pd.DataFrame",
       "ref": "e92c3be0-3048-4e03-895c-0857fca8b3db",
       "rows": [
        [
         "0",
         "The film is about a family who move to the suburbs, hoping for a quiet life. Things start to go wrong, and the wife gets violent and starts throwing crockery, leading to her arrest.",
         "comedy"
        ],
        [
         "1",
         "Before heading out to a baseball game at a nearby ballpark, sports fan Mr. Brown drinks several highball cocktails. He arrives at the ballpark to watch the game, but has become so inebriated that the game appears to him in reverse, with the players running the bases backwards and the baseball flying back into the pitcher's hand. After the game is over, Mr. Brown is escorted home by one of his friends. When they arrive at Brown's house, they encounter his wife who becomes furious with the friend and proceeds to physically assault him, believing he is responsible for her husband's severe intoxication.[1]",
         "comedy"
        ],
        [
         "2",
         "The plot is that of a black woman going to the dentist for a toothache and being given laughing gas. On her way walking home, and in other situations, she can't stop laughing, and everyone she meets \"catches\" the laughter from her, including a vendor and police officers.",
         "comedy"
        ],
        [
         "3",
         "On a beautiful summer day a father and mother take their daughter Dollie on an outing to the river. The mother refuses to buy a gypsy's wares. The gypsy tries to rob the mother, but the father drives him off. The gypsy returns to the camp and devises a plan. They return and kidnap Dollie while her parents are distracted. A rescue crew is organized, but the gypsy takes Dollie to his camp. They gag Dollie and hide her in a barrel before the rescue party gets to the camp. Once they leave the gypsies and escapes in their wagon. As the wagon crosses the river, the barrel falls into the water. Still sealed in the barrel, Dollie is swept downstream in dangerous currents. A boy who is fishing in the river finds the barrel, and Dollie is reunited safely with her parents.",
         "drama"
        ],
        [
         "4",
         "A thug accosts a girl as she leaves her workplace but a man rescues her. The thug vows revenge and, with the help of two friends, attacks the girl and her rescuer again as they're going for a walk. This time they succeed in kidnapping the rescuer. He is bound and gagged and taken away in a cart. The girl runs home and gets help from several neighbors. They track the ruffians down to a cabin in the mountains where the gang has trapped their victim and set the cabin on fire. A thug and Rescuer fight on the roof of the house.",
         "drama"
        ]
       ],
       "shape": {
        "columns": 2,
        "rows": 5
       }
      },
      "text/html": [
       "<div>\n",
       "<style scoped>\n",
       "    .dataframe tbody tr th:only-of-type {\n",
       "        vertical-align: middle;\n",
       "    }\n",
       "\n",
       "    .dataframe tbody tr th {\n",
       "        vertical-align: top;\n",
       "    }\n",
       "\n",
       "    .dataframe thead th {\n",
       "        text-align: right;\n",
       "    }\n",
       "</style>\n",
       "<table border=\"1\" class=\"dataframe\">\n",
       "  <thead>\n",
       "    <tr style=\"text-align: right;\">\n",
       "      <th></th>\n",
       "      <th>Plot</th>\n",
       "      <th>Genre</th>\n",
       "    </tr>\n",
       "  </thead>\n",
       "  <tbody>\n",
       "    <tr>\n",
       "      <th>0</th>\n",
       "      <td>The film is about a family who move to the sub...</td>\n",
       "      <td>comedy</td>\n",
       "    </tr>\n",
       "    <tr>\n",
       "      <th>1</th>\n",
       "      <td>Before heading out to a baseball game at a nea...</td>\n",
       "      <td>comedy</td>\n",
       "    </tr>\n",
       "    <tr>\n",
       "      <th>2</th>\n",
       "      <td>The plot is that of a black woman going to the...</td>\n",
       "      <td>comedy</td>\n",
       "    </tr>\n",
       "    <tr>\n",
       "      <th>3</th>\n",
       "      <td>On a beautiful summer day a father and mother ...</td>\n",
       "      <td>drama</td>\n",
       "    </tr>\n",
       "    <tr>\n",
       "      <th>4</th>\n",
       "      <td>A thug accosts a girl as she leaves her workpl...</td>\n",
       "      <td>drama</td>\n",
       "    </tr>\n",
       "  </tbody>\n",
       "</table>\n",
       "</div>"
      ],
      "text/plain": [
       "                                                Plot   Genre\n",
       "0  The film is about a family who move to the sub...  comedy\n",
       "1  Before heading out to a baseball game at a nea...  comedy\n",
       "2  The plot is that of a black woman going to the...  comedy\n",
       "3  On a beautiful summer day a father and mother ...   drama\n",
       "4  A thug accosts a girl as she leaves her workpl...   drama"
      ]
     },
     "execution_count": 33,
     "metadata": {},
     "output_type": "execute_result"
    }
   ],
   "source": [
    "df = pd.read_csv('https://raw.githubusercontent.com/tiagoft/NLP/main/wiki_movie_plots_drama_comedy.csv')\n",
    "df.head()"
   ]
  },
  {
   "cell_type": "code",
   "execution_count": 34,
   "metadata": {},
   "outputs": [
    {
     "name": "stdout",
     "output_type": "stream",
     "text": [
      "Accuracy: 0.72\n"
     ]
    }
   ],
   "source": [
    "from sklearn.feature_extraction.text import CountVectorizer\n",
    "from sklearn.naive_bayes import BernoulliNB\n",
    "from sklearn.pipeline import Pipeline\n",
    "from sklearn.model_selection import train_test_split\n",
    "from sklearn.metrics import accuracy_score\n",
    "\n",
    "# Create the pipeline\n",
    "model = Pipeline([\n",
    "    ('vectorizer', CountVectorizer(binary=True)),\n",
    "    ('classifier', BernoulliNB())\n",
    "])\n",
    "\n",
    "# Split the data into training and testing sets\n",
    "X_train, X_test, y_train, y_test = train_test_split(df['Plot'], df['Genre'], test_size=0.2)\n",
    "# Train the pipeline\n",
    "model.fit(X_train, y_train)\n",
    "y_pred = model.predict(X_test)\n",
    "accuracy = accuracy_score(y_test, y_pred)\n",
    "print(f'Accuracy: {accuracy:.2f}')"
   ]
  },
  {
   "cell_type": "code",
   "execution_count": 35,
   "metadata": {},
   "outputs": [],
   "source": [
    "import os\n",
    "from dotenv import load_dotenv\n",
    "import google.generativeai as genai\n",
    "import json\n",
    "from tqdm import tqdm\n",
    "import time\n",
    "\n",
    "load_dotenv()\n",
    "\n",
    "df_ = df.sample(100)\n",
    "X = df.iloc[1]['Plot']\n",
    "y = df.iloc[1]['Genre']"
   ]
  },
  {
   "cell_type": "code",
   "execution_count": 36,
   "metadata": {},
   "outputs": [
    {
     "name": "stdout",
     "output_type": "stream",
     "text": [
      "100\n"
     ]
    }
   ],
   "source": [
    "print(len(df_))"
   ]
  },
  {
   "cell_type": "code",
   "execution_count": 37,
   "metadata": {},
   "outputs": [
    {
     "name": "stdout",
     "output_type": "stream",
     "text": [
      "1\n",
      "2\n",
      "3\n",
      "4\n",
      "5\n",
      "6\n",
      "7\n",
      "8\n",
      "9\n",
      "10\n",
      "11\n",
      "12\n",
      "13\n",
      "14\n",
      "15\n",
      "Wait... 429 Resource has been exhausted (e.g. check quota).\n",
      "16\n",
      "17\n",
      "18\n",
      "19\n",
      "20\n",
      "21\n",
      "22\n",
      "23\n",
      "24\n",
      "25\n",
      "26\n",
      "27\n",
      "28\n",
      "29\n",
      "30\n",
      "31\n",
      "32\n",
      "33\n",
      "Wait... 429 Resource has been exhausted (e.g. check quota).\n",
      "34\n",
      "35\n",
      "Wait... 429 Resource has been exhausted (e.g. check quota).\n",
      "36\n",
      "37\n",
      "Wait... 429 Resource has been exhausted (e.g. check quota).\n",
      "Wait... 429 Resource has been exhausted (e.g. check quota).\n",
      "Wait... 429 Resource has been exhausted (e.g. check quota).\n",
      "38\n",
      "39\n",
      "40\n",
      "41\n",
      "42\n",
      "43\n",
      "44\n",
      "45\n",
      "46\n",
      "47\n",
      "48\n",
      "49\n",
      "50\n",
      "51\n",
      "52\n",
      "53\n",
      "Wait... 429 Resource has been exhausted (e.g. check quota).\n",
      "54\n",
      "Wait... 429 Resource has been exhausted (e.g. check quota).\n",
      "Wait... 429 Resource has been exhausted (e.g. check quota).\n",
      "55\n",
      "Wait... 429 Resource has been exhausted (e.g. check quota).\n",
      "56\n",
      "57\n",
      "58\n",
      "59\n",
      "60\n",
      "61\n",
      "62\n",
      "63\n",
      "64\n",
      "65\n",
      "66\n",
      "67\n",
      "68\n",
      "69\n",
      "70\n",
      "71\n",
      "Wait... 429 Resource has been exhausted (e.g. check quota).\n",
      "Wait... 429 Resource has been exhausted (e.g. check quota).\n",
      "72\n",
      "Wait... 429 Resource has been exhausted (e.g. check quota).\n",
      "73\n",
      "Wait... 429 Resource has been exhausted (e.g. check quota).\n",
      "74\n",
      "75\n",
      "76\n",
      "77\n",
      "78\n",
      "79\n",
      "80\n",
      "81\n",
      "82\n",
      "83\n",
      "84\n",
      "85\n",
      "86\n",
      "87\n",
      "88\n",
      "89\n",
      "90\n",
      "91\n",
      "92\n",
      "Wait... 429 Resource has been exhausted (e.g. check quota).\n",
      "Wait... 429 Resource has been exhausted (e.g. check quota).\n",
      "Wait... 429 Resource has been exhausted (e.g. check quota).\n",
      "93\n",
      "Wait... 429 Resource has been exhausted (e.g. check quota).\n",
      "94\n",
      "95\n",
      "96\n",
      "97\n",
      "98\n",
      "99\n",
      "100\n"
     ]
    }
   ],
   "source": [
    "# Start the use of the API\n",
    "genai.configure(api_key=GEMINI_API_KEY)\n",
    "\n",
    "i = 0\n",
    "current_responses = []\n",
    "while i < len(df_):\n",
    "    plot = df_.iloc[i]['Plot']\n",
    "\n",
    "    # Make our prompt here\n",
    "    prompt = f\"\"\"\n",
    "    You will be given the task of analyzing a movie plot. I will ask you some questions and you will \n",
    "    return the answer to them as either 1 (for yes) or 0 (for no). If you are in doubt, make your best guess.\n",
    "\n",
    "    Also, identify if the plot genre is DRAMA or COMEDY.\n",
    "\n",
    "    Answer the questions as a JSON file, in the format: \n",
    "\n",
    "    {{\n",
    "    \"Q1\" : \"Answer to Q1\",\n",
    "    \"Q2\" : \"Answer to Q2\",\n",
    "    \"Q3\" : \"Answer to Q3\",\n",
    "    \"Q4\" : \"Answer to Q4\",\n",
    "    \"Q5\" : \"Answer to Q5\",\n",
    "    \"Q6\" : \"Answer to Q6\",\n",
    "    \"Q7\" : \"Answer to Q7\",\n",
    "    \"Q8\" : \"Answer to Q8\",\n",
    "    \"Q9\" : \"Answer to Q9\",\n",
    "    \"Q10\" : \"Answer to Q10\",\n",
    "    \"LLM_Genre\" : \"DRAMA\" or \"COMEDY\"\n",
    "    }}\n",
    "\n",
    "    The questions are:\n",
    "\n",
    "    Q1: Is the protagonist an animal?\n",
    "    Q2: Can that movie make me rethink my life choices?\n",
    "    Q3: Am I going to cry when I watch the movie?\n",
    "    Q4: Is the plot absurd or exaggerated?\n",
    "    Q5: Could the situations in the movie realistic happen to an average person?\n",
    "    Q6: Is the emotional tone of the narrative primarily lighthearted or humorous?\n",
    "    Q7: Are conflicts resolved in ways that are exaggerated, absurd, or intentionally amusing?\n",
    "    Q8: Do the characters and their relationships lean towards eccentricity or caricature rather than realism?\n",
    "    Q9: Does humor play a central role in driving the story forward?\n",
    "    Q10: Is the intended effect to leave the audience laughing or feeling uplifted rather than reflecting on serious issues?\n",
    "\n",
    "\n",
    "    The movie plot is: {plot}\n",
    "    \"\"\"\n",
    "\n",
    "    generation_config = genai.GenerationConfig(\n",
    "        max_output_tokens=100,\n",
    "        temperature=0.0,\n",
    "        response_mime_type='application/json'\n",
    "    )\n",
    "\n",
    "    # Use our prompt \n",
    "    model = genai.GenerativeModel(model_name=\"gemini-2.0-flash\")\n",
    "\n",
    "    try:\n",
    "        response = model.generate_content(prompt,\n",
    "                                        generation_config=generation_config)\n",
    "        response_dict = json.loads(response.text)\n",
    "        current_responses.append(response_dict)\n",
    "        i = i + 1\n",
    "        print(i)\n",
    "    except Exception as e:\n",
    "        print(\"Wait...\", e)\n",
    "        time.sleep(10)"
   ]
  },
  {
   "cell_type": "code",
   "execution_count": 38,
   "metadata": {},
   "outputs": [
    {
     "data": {
      "text/plain": [
       "(100, 100)"
      ]
     },
     "execution_count": 38,
     "metadata": {},
     "output_type": "execute_result"
    }
   ],
   "source": [
    "len(current_responses), len(df_)"
   ]
  },
  {
   "cell_type": "code",
   "execution_count": 39,
   "metadata": {},
   "outputs": [],
   "source": [
    "df_features = pd.DataFrame(current_responses)\n",
    "df_ = df_.iloc[0:100]"
   ]
  },
  {
   "cell_type": "code",
   "execution_count": 40,
   "metadata": {},
   "outputs": [
    {
     "data": {
      "text/plain": [
       "(100, 11)"
      ]
     },
     "execution_count": 40,
     "metadata": {},
     "output_type": "execute_result"
    }
   ],
   "source": [
    "df_features.shape"
   ]
  },
  {
   "cell_type": "code",
   "execution_count": 41,
   "metadata": {},
   "outputs": [],
   "source": [
    "df_['Q1'] = list( df_features['Q1'].astype(int) )\n",
    "df_['Q2'] = list( df_features['Q2'].astype(int) )\n",
    "df_['Q3'] = list( df_features['Q3'].astype(int) )\n",
    "df_['Q4'] = list( df_features['Q4'].astype(int) )\n",
    "df_['Q5'] = list( df_features['Q5'].astype(int) )\n",
    "df_['LLM_Genre'] = list( df_features['LLM_Genre'] )"
   ]
  },
  {
   "cell_type": "code",
   "execution_count": 47,
   "metadata": {},
   "outputs": [
    {
     "data": {
      "application/vnd.microsoft.datawrangler.viewer.v0+json": {
       "columns": [
        {
         "name": "index",
         "rawType": "int64",
         "type": "integer"
        },
        {
         "name": "Plot",
         "rawType": "object",
         "type": "string"
        },
        {
         "name": "Genre",
         "rawType": "object",
         "type": "string"
        },
        {
         "name": "Q1",
         "rawType": "int64",
         "type": "integer"
        },
        {
         "name": "Q2",
         "rawType": "int64",
         "type": "integer"
        },
        {
         "name": "Q3",
         "rawType": "int64",
         "type": "integer"
        },
        {
         "name": "Q4",
         "rawType": "int64",
         "type": "integer"
        },
        {
         "name": "Q5",
         "rawType": "int64",
         "type": "integer"
        },
        {
         "name": "LLM_Genre",
         "rawType": "object",
         "type": "string"
        }
       ],
       "conversionMethod": "pd.DataFrame",
       "ref": "a047f2d9-ed6d-4343-8191-164b291d891d",
       "rows": [
        [
         "5956",
         "In 2003, Grant Taylor (Alex Kendrick) is the head coach at Shiloh Christian Academy, and has yet to post a winning record in his six-year tenure. After his seventh season begins with a three-game losing streak, the players' fathers start making noises about replacing him with defensive coordinator Brady Owens. This is not the only problem Grant is facing; his car is breaking down, and he discovers that he is the reason that his wife Brooke cannot become pregnant.\r\nHe creates a new coaching philosophy and decides to praise God, no matter what the result. At the same time he guides and urges each one of his players to give the maximum effort, and motivates them to believe they can win under God's guidance. This influence spreads to the rest of the school. From that point on, the Eagles win all their remaining regular season games after losing the first three and make the state playoffs. As a result, Grant is given a raise in salary rather than being fired and is also provided with a brand-new truck from grateful boosters. The Eagles lose their playoff opener, but are declared the winner after the opponent used ineligible players. The Eagles then advance all the way to the state championship game against the three-time defending champion Richland Giants. Even though the Eagles have only a third as many players as the Giants, the Eagles hold their own and ultimately win the game on a 51-yard field goal from a backup kicker who had never kicked more than a 35-yarder before. Grant's prayers for children are also answered as he and Brooke have children after two years.",
         "drama",
         "0",
         "1",
         "1",
         "0",
         "1",
         "DRAMA"
        ],
        [
         "6749",
         "Shane Jacobson plays Boots who takes his father (Paul Hogan) on a trip to fish on the northernmost tip of Australia because of something his father told him when he was a kid. Although he probably wasn't serious and can't remember it Boots decides to carry it out. They travel on a road trip from Victoria to the Cape York Peninsula in a Holden Kingswood, passing through towns like Tamworth. The film starts with the death of Gracie, Boots' mother and Charlie's wife. After Gracie's death, Boots goes to visit Charlie on the family farm, finding him locked away in the house in the dark, curtains drawn. Boots looks at a calendar on the wall with a picture of Cape York and remembers his father promising to take him fishing off the northernmost tip of Australia. As the trip starts out, Boots and Charlie seem tense but as the days pass they begin to rekindle their father-son relationship.\r\nTheir journey involves visiting different towns, hang-outs in different restaurants, and visiting famous attractions. On their way, they start to reconcile and express their emotions about the recent death of Gracie, Charlie's wife and Boots's mother, and the drama unfolding around the death of Ben, Boots' son, by drowning.\r\nThey even help a young 16-year-old girl named Jess by allowing her to escape her boyfriend Tristan and aid her in her dream to go to the famous country city of Tamworth. The trio manage to arrive in the town, and Jess plays one of her songs in the famous large hall, after passing a manager. They push a car owned by a Tristan out of a car park at night and end up damaging it. They fly in a small aircraft with a pilot (Roy Billing). From the craft, they see the Great Barrier Reef. The pilot continuously hits the altitude meter, making Boots feel nervous. They are dropped off by the pilot and they both wave goodbye as it leaves. In the end, Charlie and Boots both make it to their destination, Cape York, the northernmost tip of Australia. They take their fishing rods and quote a few sentences they traveled with on their journey. As the credits roll, we learn that Jess has been discovered by a music industry manager and has made a single about an obnoxious boyfriend. At the end of the credits, we see a brief clip of Charlie and Boots traveling over the Sydney Harbour Bridge. They look up from their car in awe, causing Boots to marvel at how big the bridge is. Charlie quips \"Yeah... imagine having to paint (it)\" - a dig at Hogan's pre-fame occupation as a worker on it.",
         "comedy",
         "0",
         "1",
         "1",
         "0",
         "1",
         "DRAMA"
        ],
        [
         "6200",
         "Will Montgomery (Ben Foster), a lone rebellious U.S. Army staff sergeant and declared war hero, has returned home from Iraq, and since he served enough war time, he is assigned as a casualty notification officer. Montgomery is partnered with a strict recovering alcoholic, Captain Tony Stone (Woody Harrelson), to give notice to the families of fallen soldiers. The Sergeant is drawn to Olivia Pitterson (Samantha Morton), now a single mother, to whom he has delivered news of her husband’s death.[3]",
         "drama",
         "0",
         "1",
         "1",
         "0",
         "1",
         "DRAMA"
        ],
        [
         "9676",
         "Sindhuraj alias Sindhu (Shankar) is a carefree plus two student who lives in Polur with his elder sister Porkodi (Vineetha), the village teacher whereas his elder brother Santhosh (Murugan) is an upright military officer. Porkodi lives only for her brothers and would do anything for her brothers. Sindhu always hangs out with his friends, and enjoys teasing the villagers. Tamizhselvi (Heera) is an hard-working and haughty plus two student who hates her cousin Sindhu. After successfully passing the exam, Sindhu and his friends decide to pursue a bachelor's degree in science and apply to one of the college in the city.\r\nAt the college, his college mate Divya (Megha) fall in love with him, she is from a rich background. At the annual inter-college competition, Sindhu sings a song and won the first prize making the college proud. Later, Santhosh, on the holiday, returns to his village from the military camp. Her sister wants her brother Santhosh to get married with her cousin Thamizhselvi but Thamizhselvi refuses to marry him for not getting enough money and humiliates them. When Divya wanted to introduce her lover Sindhu to her parents, Sindhu stood them up for various reasons. The first time, he got an opportunity to sing in a concert, so Divya's parents were understanding. While the second time, it was the last of college therefore his friends and he celebrated and got drunk, Divya and her parents were disappointed that he did not come. Worried about Sindhu, Divya goes to his college dorm and she sees the drunk Sindhu talks ill about her. The next day, Sindhu realizes his mistake and apologizes to Divya. Divya, who sincerely loved him, tells him that he was too reckless and immature to be her life partner. Divya and her parents are about to leave the country to settle down to the USA and before leaving, she tells Sindhu that he has missed an opportunity to make it big in life.\r\nThereafter, all his friends decide to pursue a master's degree in science while Sindhu has to clear all his arrears to complete his bachelor degree. Sindhu finds himself alone, isolated and mocked by the villagers. In the meantime, Thamizhselvi, who refused to marry grooms for not being rich enough, finally accepts to get married with a doctor when she discovers that her mother (Rajini Nivetha) has cardiovascular disease. The day of the wedding, the groom demands for a huge dowry but Thamizhselvi's mother tells them that she has not that much money and the wedding is cancelled. The carefree Sindhu and arrogant Thamizhselvi who both fail themself in life decide to get married. Sindhu then get an opportunity to sing in a feature film. The film ends with Sindhu and Thamizhselvi living happily.",
         "drama",
         "0",
         "0",
         "0",
         "0",
         "1",
         "COMEDY"
        ],
        [
         "8929",
         "Anandi Devi (Meena Kumari) is an old widow who lives in a village. One day, she is visited by a distant relative, Arun Gupta (Ramesh Deo), who persuades her to live in town with him, his wife Lata (Sumita Sanyal), and a small child. She later realizes that they were looking for a maid, which results in her expulsion from the house and befriending a child beggar who takes her to his dilapidated home. Being good-natured and caring, she slowly earns the title of \"Nani Ma\" (maternal grandmother) among groups of youths led by Shyam (Vinod Khanna) and Chhenu (Shatrughan Sinha), who were in a constant fight with each other. The movie ends with her death from accidental gunfire in one such clash.",
         "drama",
         "0",
         "1",
         "1",
         "0",
         "1",
         "DRAMA"
        ]
       ],
       "shape": {
        "columns": 8,
        "rows": 5
       }
      },
      "text/html": [
       "<div>\n",
       "<style scoped>\n",
       "    .dataframe tbody tr th:only-of-type {\n",
       "        vertical-align: middle;\n",
       "    }\n",
       "\n",
       "    .dataframe tbody tr th {\n",
       "        vertical-align: top;\n",
       "    }\n",
       "\n",
       "    .dataframe thead th {\n",
       "        text-align: right;\n",
       "    }\n",
       "</style>\n",
       "<table border=\"1\" class=\"dataframe\">\n",
       "  <thead>\n",
       "    <tr style=\"text-align: right;\">\n",
       "      <th></th>\n",
       "      <th>Plot</th>\n",
       "      <th>Genre</th>\n",
       "      <th>Q1</th>\n",
       "      <th>Q2</th>\n",
       "      <th>Q3</th>\n",
       "      <th>Q4</th>\n",
       "      <th>Q5</th>\n",
       "      <th>LLM_Genre</th>\n",
       "    </tr>\n",
       "  </thead>\n",
       "  <tbody>\n",
       "    <tr>\n",
       "      <th>5956</th>\n",
       "      <td>In 2003, Grant Taylor (Alex Kendrick) is the h...</td>\n",
       "      <td>drama</td>\n",
       "      <td>0</td>\n",
       "      <td>1</td>\n",
       "      <td>1</td>\n",
       "      <td>0</td>\n",
       "      <td>1</td>\n",
       "      <td>DRAMA</td>\n",
       "    </tr>\n",
       "    <tr>\n",
       "      <th>6749</th>\n",
       "      <td>Shane Jacobson plays Boots who takes his fathe...</td>\n",
       "      <td>comedy</td>\n",
       "      <td>0</td>\n",
       "      <td>1</td>\n",
       "      <td>1</td>\n",
       "      <td>0</td>\n",
       "      <td>1</td>\n",
       "      <td>DRAMA</td>\n",
       "    </tr>\n",
       "    <tr>\n",
       "      <th>6200</th>\n",
       "      <td>Will Montgomery (Ben Foster), a lone rebelliou...</td>\n",
       "      <td>drama</td>\n",
       "      <td>0</td>\n",
       "      <td>1</td>\n",
       "      <td>1</td>\n",
       "      <td>0</td>\n",
       "      <td>1</td>\n",
       "      <td>DRAMA</td>\n",
       "    </tr>\n",
       "    <tr>\n",
       "      <th>9676</th>\n",
       "      <td>Sindhuraj alias Sindhu (Shankar) is a carefree...</td>\n",
       "      <td>drama</td>\n",
       "      <td>0</td>\n",
       "      <td>0</td>\n",
       "      <td>0</td>\n",
       "      <td>0</td>\n",
       "      <td>1</td>\n",
       "      <td>COMEDY</td>\n",
       "    </tr>\n",
       "    <tr>\n",
       "      <th>8929</th>\n",
       "      <td>Anandi Devi (Meena Kumari) is an old widow who...</td>\n",
       "      <td>drama</td>\n",
       "      <td>0</td>\n",
       "      <td>1</td>\n",
       "      <td>1</td>\n",
       "      <td>0</td>\n",
       "      <td>1</td>\n",
       "      <td>DRAMA</td>\n",
       "    </tr>\n",
       "  </tbody>\n",
       "</table>\n",
       "</div>"
      ],
      "text/plain": [
       "                                                   Plot   Genre  Q1  Q2  Q3  \\\n",
       "5956  In 2003, Grant Taylor (Alex Kendrick) is the h...   drama   0   1   1   \n",
       "6749  Shane Jacobson plays Boots who takes his fathe...  comedy   0   1   1   \n",
       "6200  Will Montgomery (Ben Foster), a lone rebelliou...   drama   0   1   1   \n",
       "9676  Sindhuraj alias Sindhu (Shankar) is a carefree...   drama   0   0   0   \n",
       "8929  Anandi Devi (Meena Kumari) is an old widow who...   drama   0   1   1   \n",
       "\n",
       "      Q4  Q5 LLM_Genre  \n",
       "5956   0   1     DRAMA  \n",
       "6749   0   1     DRAMA  \n",
       "6200   0   1     DRAMA  \n",
       "9676   0   1    COMEDY  \n",
       "8929   0   1     DRAMA  "
      ]
     },
     "execution_count": 47,
     "metadata": {},
     "output_type": "execute_result"
    }
   ],
   "source": [
    "df_.head()"
   ]
  },
  {
   "cell_type": "code",
   "execution_count": 43,
   "metadata": {},
   "outputs": [
    {
     "data": {
      "text/plain": [
       "Plot         object\n",
       "Genre        object\n",
       "Q1            int64\n",
       "Q2            int64\n",
       "Q3            int64\n",
       "Q4            int64\n",
       "Q5            int64\n",
       "LLM_Genre    object\n",
       "dtype: object"
      ]
     },
     "execution_count": 43,
     "metadata": {},
     "output_type": "execute_result"
    }
   ],
   "source": [
    "df_.dtypes"
   ]
  },
  {
   "cell_type": "code",
   "execution_count": 44,
   "metadata": {},
   "outputs": [
    {
     "name": "stdout",
     "output_type": "stream",
     "text": [
      "0.8269999999999998\n"
     ]
    }
   ],
   "source": [
    "import numpy as np\n",
    "accuracies = []\n",
    "for _ in range(50):\n",
    "    X_train, X_test, y_train, y_test = train_test_split(\n",
    "        df_[['Q1', 'Q2', 'Q3', 'Q4', 'Q5']],\n",
    "        df_['Genre'],\n",
    "        test_size=0.2,\n",
    "    )\n",
    "\n",
    "    model = BernoulliNB()\n",
    "\n",
    "    # Train the pipeline\n",
    "    model.fit(X_train, y_train)\n",
    "    y_pred = model.predict(X_test)\n",
    "    accuracy = accuracy_score(y_test, y_pred)\n",
    "    accuracies.append(accuracy)\n",
    "\n",
    "print(np.mean(accuracies))"
   ]
  },
  {
   "cell_type": "code",
   "execution_count": 45,
   "metadata": {},
   "outputs": [
    {
     "name": "stdout",
     "output_type": "stream",
     "text": [
      "0.84\n"
     ]
    }
   ],
   "source": [
    "print(accuracy_score(df_['Genre'].str.upper(), df_['LLM_Genre'].str.upper()))"
   ]
  }
 ],
 "metadata": {
  "kernelspec": {
   "display_name": "env",
   "language": "python",
   "name": "python3"
  },
  "language_info": {
   "codemirror_mode": {
    "name": "ipython",
    "version": 3
   },
   "file_extension": ".py",
   "mimetype": "text/x-python",
   "name": "python",
   "nbconvert_exporter": "python",
   "pygments_lexer": "ipython3",
   "version": "3.10.10"
  }
 },
 "nbformat": 4,
 "nbformat_minor": 2
}
